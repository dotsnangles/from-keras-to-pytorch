{
  "cells": [
    {
      "cell_type": "markdown",
      "metadata": {
        "id": "view-in-github",
        "colab_type": "text"
      },
      "source": [
        "<a href=\"https://colab.research.google.com/github/dotsnangles/from-keras-to-pytorch-and-more/blob/main/yolov5_with_taco_mini_dataset.ipynb\" target=\"_parent\"><img src=\"https://colab.research.google.com/assets/colab-badge.svg\" alt=\"Open In Colab\"/></a>"
      ]
    },
    {
      "cell_type": "markdown",
      "source": [
        "# 데이터를 다운로드합니다.\n",
        "- 캐글에 계정을 생성한 후 kaggle.json을 생성하여 아래의 코드를 순서대로 실행합니다."
      ],
      "metadata": {
        "id": "sgRkmM1BhIrV"
      },
      "id": "sgRkmM1BhIrV"
    },
    {
      "cell_type": "code",
      "source": [
        "from google.colab import files\n",
        "files.upload()         # expire any previous token(s) and upload recreated token"
      ],
      "metadata": {
        "colab": {
          "base_uri": "https://localhost:8080/",
          "height": 95
        },
        "id": "J0-oxyghylsn",
        "outputId": "210bc49b-8ddc-46d0-c815-1528e312e304"
      },
      "execution_count": null,
      "outputs": [
        {
          "output_type": "display_data",
          "data": {
            "text/plain": [
              "<IPython.core.display.HTML object>"
            ],
            "text/html": [
              "\n",
              "     <input type=\"file\" id=\"files-0267e883-2a30-4b63-a300-60c7c5efc056\" name=\"files[]\" multiple disabled\n",
              "        style=\"border:none\" />\n",
              "     <output id=\"result-0267e883-2a30-4b63-a300-60c7c5efc056\">\n",
              "      Upload widget is only available when the cell has been executed in the\n",
              "      current browser session. Please rerun this cell to enable.\n",
              "      </output>\n",
              "      <script>// Copyright 2017 Google LLC\n",
              "//\n",
              "// Licensed under the Apache License, Version 2.0 (the \"License\");\n",
              "// you may not use this file except in compliance with the License.\n",
              "// You may obtain a copy of the License at\n",
              "//\n",
              "//      http://www.apache.org/licenses/LICENSE-2.0\n",
              "//\n",
              "// Unless required by applicable law or agreed to in writing, software\n",
              "// distributed under the License is distributed on an \"AS IS\" BASIS,\n",
              "// WITHOUT WARRANTIES OR CONDITIONS OF ANY KIND, either express or implied.\n",
              "// See the License for the specific language governing permissions and\n",
              "// limitations under the License.\n",
              "\n",
              "/**\n",
              " * @fileoverview Helpers for google.colab Python module.\n",
              " */\n",
              "(function(scope) {\n",
              "function span(text, styleAttributes = {}) {\n",
              "  const element = document.createElement('span');\n",
              "  element.textContent = text;\n",
              "  for (const key of Object.keys(styleAttributes)) {\n",
              "    element.style[key] = styleAttributes[key];\n",
              "  }\n",
              "  return element;\n",
              "}\n",
              "\n",
              "// Max number of bytes which will be uploaded at a time.\n",
              "const MAX_PAYLOAD_SIZE = 100 * 1024;\n",
              "\n",
              "function _uploadFiles(inputId, outputId) {\n",
              "  const steps = uploadFilesStep(inputId, outputId);\n",
              "  const outputElement = document.getElementById(outputId);\n",
              "  // Cache steps on the outputElement to make it available for the next call\n",
              "  // to uploadFilesContinue from Python.\n",
              "  outputElement.steps = steps;\n",
              "\n",
              "  return _uploadFilesContinue(outputId);\n",
              "}\n",
              "\n",
              "// This is roughly an async generator (not supported in the browser yet),\n",
              "// where there are multiple asynchronous steps and the Python side is going\n",
              "// to poll for completion of each step.\n",
              "// This uses a Promise to block the python side on completion of each step,\n",
              "// then passes the result of the previous step as the input to the next step.\n",
              "function _uploadFilesContinue(outputId) {\n",
              "  const outputElement = document.getElementById(outputId);\n",
              "  const steps = outputElement.steps;\n",
              "\n",
              "  const next = steps.next(outputElement.lastPromiseValue);\n",
              "  return Promise.resolve(next.value.promise).then((value) => {\n",
              "    // Cache the last promise value to make it available to the next\n",
              "    // step of the generator.\n",
              "    outputElement.lastPromiseValue = value;\n",
              "    return next.value.response;\n",
              "  });\n",
              "}\n",
              "\n",
              "/**\n",
              " * Generator function which is called between each async step of the upload\n",
              " * process.\n",
              " * @param {string} inputId Element ID of the input file picker element.\n",
              " * @param {string} outputId Element ID of the output display.\n",
              " * @return {!Iterable<!Object>} Iterable of next steps.\n",
              " */\n",
              "function* uploadFilesStep(inputId, outputId) {\n",
              "  const inputElement = document.getElementById(inputId);\n",
              "  inputElement.disabled = false;\n",
              "\n",
              "  const outputElement = document.getElementById(outputId);\n",
              "  outputElement.innerHTML = '';\n",
              "\n",
              "  const pickedPromise = new Promise((resolve) => {\n",
              "    inputElement.addEventListener('change', (e) => {\n",
              "      resolve(e.target.files);\n",
              "    });\n",
              "  });\n",
              "\n",
              "  const cancel = document.createElement('button');\n",
              "  inputElement.parentElement.appendChild(cancel);\n",
              "  cancel.textContent = 'Cancel upload';\n",
              "  const cancelPromise = new Promise((resolve) => {\n",
              "    cancel.onclick = () => {\n",
              "      resolve(null);\n",
              "    };\n",
              "  });\n",
              "\n",
              "  // Wait for the user to pick the files.\n",
              "  const files = yield {\n",
              "    promise: Promise.race([pickedPromise, cancelPromise]),\n",
              "    response: {\n",
              "      action: 'starting',\n",
              "    }\n",
              "  };\n",
              "\n",
              "  cancel.remove();\n",
              "\n",
              "  // Disable the input element since further picks are not allowed.\n",
              "  inputElement.disabled = true;\n",
              "\n",
              "  if (!files) {\n",
              "    return {\n",
              "      response: {\n",
              "        action: 'complete',\n",
              "      }\n",
              "    };\n",
              "  }\n",
              "\n",
              "  for (const file of files) {\n",
              "    const li = document.createElement('li');\n",
              "    li.append(span(file.name, {fontWeight: 'bold'}));\n",
              "    li.append(span(\n",
              "        `(${file.type || 'n/a'}) - ${file.size} bytes, ` +\n",
              "        `last modified: ${\n",
              "            file.lastModifiedDate ? file.lastModifiedDate.toLocaleDateString() :\n",
              "                                    'n/a'} - `));\n",
              "    const percent = span('0% done');\n",
              "    li.appendChild(percent);\n",
              "\n",
              "    outputElement.appendChild(li);\n",
              "\n",
              "    const fileDataPromise = new Promise((resolve) => {\n",
              "      const reader = new FileReader();\n",
              "      reader.onload = (e) => {\n",
              "        resolve(e.target.result);\n",
              "      };\n",
              "      reader.readAsArrayBuffer(file);\n",
              "    });\n",
              "    // Wait for the data to be ready.\n",
              "    let fileData = yield {\n",
              "      promise: fileDataPromise,\n",
              "      response: {\n",
              "        action: 'continue',\n",
              "      }\n",
              "    };\n",
              "\n",
              "    // Use a chunked sending to avoid message size limits. See b/62115660.\n",
              "    let position = 0;\n",
              "    do {\n",
              "      const length = Math.min(fileData.byteLength - position, MAX_PAYLOAD_SIZE);\n",
              "      const chunk = new Uint8Array(fileData, position, length);\n",
              "      position += length;\n",
              "\n",
              "      const base64 = btoa(String.fromCharCode.apply(null, chunk));\n",
              "      yield {\n",
              "        response: {\n",
              "          action: 'append',\n",
              "          file: file.name,\n",
              "          data: base64,\n",
              "        },\n",
              "      };\n",
              "\n",
              "      let percentDone = fileData.byteLength === 0 ?\n",
              "          100 :\n",
              "          Math.round((position / fileData.byteLength) * 100);\n",
              "      percent.textContent = `${percentDone}% done`;\n",
              "\n",
              "    } while (position < fileData.byteLength);\n",
              "  }\n",
              "\n",
              "  // All done.\n",
              "  yield {\n",
              "    response: {\n",
              "      action: 'complete',\n",
              "    }\n",
              "  };\n",
              "}\n",
              "\n",
              "scope.google = scope.google || {};\n",
              "scope.google.colab = scope.google.colab || {};\n",
              "scope.google.colab._files = {\n",
              "  _uploadFiles,\n",
              "  _uploadFilesContinue,\n",
              "};\n",
              "})(self);\n",
              "</script> "
            ]
          },
          "metadata": {}
        },
        {
          "output_type": "stream",
          "name": "stdout",
          "text": [
            "Saving kaggle.json to kaggle.json\n"
          ]
        },
        {
          "output_type": "execute_result",
          "data": {
            "text/plain": [
              "{'kaggle.json': b'{\"username\":\"dotsnangles\",\"key\":\"22f5e94d3d4ae93abb4d71525709803c\"}'}"
            ]
          },
          "metadata": {},
          "execution_count": 1
        }
      ],
      "id": "J0-oxyghylsn"
    },
    {
      "cell_type": "code",
      "source": [
        "# !rm -r ~/.kaggle\n",
        "!mkdir ~/.kaggle\n",
        "!mv ./kaggle.json ~/.kaggle/\n",
        "!chmod 600 ~/.kaggle/kaggle.json\n",
        "# !kaggle datasets list"
      ],
      "metadata": {
        "id": "ppnbcxPPyvLz"
      },
      "execution_count": null,
      "outputs": [],
      "id": "ppnbcxPPyvLz"
    },
    {
      "cell_type": "code",
      "source": [
        "!kaggle datasets download -d kneroma/tacotrashdataset"
      ],
      "metadata": {
        "colab": {
          "base_uri": "https://localhost:8080/"
        },
        "id": "mbtnrDDN710L",
        "outputId": "52867024-4548-4085-9bcd-98673a26ed61"
      },
      "execution_count": null,
      "outputs": [
        {
          "output_type": "stream",
          "name": "stdout",
          "text": [
            "Downloading tacotrashdataset.zip to /content\n",
            "100% 2.79G/2.79G [02:25<00:00, 20.9MB/s]\n",
            "100% 2.79G/2.79G [02:25<00:00, 20.6MB/s]\n"
          ]
        }
      ],
      "id": "mbtnrDDN710L"
    },
    {
      "cell_type": "code",
      "source": [
        "!mkdir -p /content/input/tacotrashdataset\n",
        "!unzip -q /content/tacotrashdataset.zip -d /content/input/tacotrashdataset"
      ],
      "metadata": {
        "id": "UdaoGW_u0XX9"
      },
      "execution_count": null,
      "outputs": [],
      "id": "UdaoGW_u0XX9"
    },
    {
      "cell_type": "markdown",
      "id": "5kq_7HQ_8AwI",
      "metadata": {
        "id": "5kq_7HQ_8AwI"
      },
      "source": [
        "### YOLOV5"
      ]
    },
    {
      "cell_type": "code",
      "execution_count": null,
      "id": "bc165772",
      "metadata": {
        "_cell_guid": "b1076dfc-b9ad-4769-8c92-a6c4dae69d19",
        "_uuid": "8f2839f25d086af736a60e9eeb907d3b93b6e0e5",
        "colab": {
          "base_uri": "https://localhost:8080/"
        },
        "execution": {
          "iopub.execute_input": "2022-03-10T02:03:52.708299Z",
          "iopub.status.busy": "2022-03-10T02:03:52.707495Z",
          "iopub.status.idle": "2022-03-10T02:04:04.401680Z",
          "shell.execute_reply": "2022-03-10T02:04:04.402236Z",
          "shell.execute_reply.started": "2022-03-10T01:59:38.858132Z"
        },
        "id": "bc165772",
        "outputId": "5d547259-7e54-497f-fee6-2ef4b53b084e",
        "papermill": {
          "duration": 11.753698,
          "end_time": "2022-03-10T02:04:04.402576",
          "exception": false,
          "start_time": "2022-03-10T02:03:52.648878",
          "status": "completed"
        },
        "tags": []
      },
      "outputs": [
        {
          "output_type": "stream",
          "name": "stdout",
          "text": [
            "Cloning into 'yolov5'...\n",
            "remote: Enumerating objects: 14906, done.\u001b[K\n",
            "remote: Counting objects: 100% (26/26), done.\u001b[K\n",
            "remote: Compressing objects: 100% (24/24), done.\u001b[K\n",
            "remote: Total 14906 (delta 11), reused 12 (delta 2), pack-reused 14880\u001b[K\n",
            "Receiving objects: 100% (14906/14906), 13.92 MiB | 13.72 MiB/s, done.\n",
            "Resolving deltas: 100% (10258/10258), done.\n"
          ]
        }
      ],
      "source": [
        "!git clone https://github.com/ultralytics/yolov5"
      ]
    },
    {
      "cell_type": "code",
      "source": [
        "%cd yolov5\n",
        "!pip install -qr requirements.txt\n",
        "!pip install -q split-folders wandb"
      ],
      "metadata": {
        "colab": {
          "base_uri": "https://localhost:8080/"
        },
        "id": "4sRSYSV-0_iS",
        "outputId": "7c715a26-85bf-465c-ab99-26e5ba20fba7"
      },
      "id": "4sRSYSV-0_iS",
      "execution_count": null,
      "outputs": [
        {
          "output_type": "stream",
          "name": "stdout",
          "text": [
            "/content/yolov5\n",
            "\u001b[K     |████████████████████████████████| 182 kB 26.2 MB/s \n",
            "\u001b[K     |████████████████████████████████| 62 kB 1.3 MB/s \n",
            "\u001b[K     |████████████████████████████████| 1.6 MB 56.8 MB/s \n",
            "\u001b[K     |████████████████████████████████| 1.9 MB 37.4 MB/s \n",
            "\u001b[K     |████████████████████████████████| 174 kB 74.8 MB/s \n",
            "\u001b[K     |████████████████████████████████| 173 kB 62.9 MB/s \n",
            "\u001b[K     |████████████████████████████████| 168 kB 82.8 MB/s \n",
            "\u001b[K     |████████████████████████████████| 168 kB 79.8 MB/s \n",
            "\u001b[K     |████████████████████████████████| 166 kB 78.6 MB/s \n",
            "\u001b[K     |████████████████████████████████| 166 kB 76.7 MB/s \n",
            "\u001b[K     |████████████████████████████████| 162 kB 84.2 MB/s \n",
            "\u001b[K     |████████████████████████████████| 162 kB 73.2 MB/s \n",
            "\u001b[K     |████████████████████████████████| 158 kB 84.3 MB/s \n",
            "\u001b[K     |████████████████████████████████| 157 kB 83.3 MB/s \n",
            "\u001b[K     |████████████████████████████████| 157 kB 84.5 MB/s \n",
            "\u001b[K     |████████████████████████████████| 157 kB 84.8 MB/s \n",
            "\u001b[K     |████████████████████████████████| 157 kB 84.2 MB/s \n",
            "\u001b[K     |████████████████████████████████| 157 kB 81.9 MB/s \n",
            "\u001b[K     |████████████████████████████████| 157 kB 79.7 MB/s \n",
            "\u001b[K     |████████████████████████████████| 157 kB 76.1 MB/s \n",
            "\u001b[K     |████████████████████████████████| 156 kB 86.0 MB/s \n",
            "\u001b[?25h  Building wheel for pathtools (setup.py) ... \u001b[?25l\u001b[?25hdone\n"
          ]
        }
      ]
    },
    {
      "cell_type": "markdown",
      "source": [
        "### Import"
      ],
      "metadata": {
        "id": "E8x4UDpTyojK"
      },
      "id": "E8x4UDpTyojK"
    },
    {
      "cell_type": "code",
      "execution_count": null,
      "id": "a92136b2",
      "metadata": {
        "execution": {
          "iopub.execute_input": "2022-03-10T02:04:05.232126Z",
          "iopub.status.busy": "2022-03-10T02:04:05.231283Z",
          "iopub.status.idle": "2022-03-10T02:04:36.536723Z",
          "shell.execute_reply": "2022-03-10T02:04:36.536213Z",
          "shell.execute_reply.started": "2022-03-10T01:59:53.251163Z"
        },
        "id": "a92136b2",
        "papermill": {
          "duration": 31.367075,
          "end_time": "2022-03-10T02:04:36.536861",
          "exception": false,
          "start_time": "2022-03-10T02:04:05.169786",
          "status": "completed"
        },
        "tags": []
      },
      "outputs": [],
      "source": [
        "import os\n",
        "import json\n",
        "import tqdm\n",
        "import shutil\n",
        "from glob import glob\n",
        "import warnings\n",
        "\n",
        "import numpy as np\n",
        "import pandas as pd\n",
        "import cv2\n",
        "\n",
        "from pycocotools.coco import COCO\n",
        "import splitfolders\n",
        "\n",
        "import matplotlib.pyplot as plt\n",
        "import seaborn as sns; sns.set()\n",
        "\n",
        "warnings.filterwarnings(action='ignore')\n",
        "%matplotlib inline"
      ]
    },
    {
      "cell_type": "markdown",
      "source": [
        "### EDA"
      ],
      "metadata": {
        "id": "LwtHz53AyyMA"
      },
      "id": "LwtHz53AyyMA"
    },
    {
      "cell_type": "code",
      "source": [
        "dataset_path = '../input/tacotrashdataset/data'\n",
        "anns_file_path = dataset_path + '/' + 'annotations.json'\n",
        "\n",
        "# 어노테이션 파일의 정보를 불러옵니다.\n",
        "with open(anns_file_path, 'r') as f:\n",
        "    dataset = json.loads(f.read())\n",
        "\n",
        "categories = dataset['categories']\n",
        "anns = dataset['annotations']\n",
        "imgs = dataset['images']\n",
        "nr_cats = len(categories)\n",
        "nr_annotations = len(anns)\n",
        "nr_images = len(imgs)\n",
        "\n",
        "# 상위 범주와 하위 범주의 정보를 불러옵니다.\n",
        "cat_names = []\n",
        "super_cat_names = []\n",
        "super_cat_ids = {}\n",
        "super_cat_last_name = ''\n",
        "nr_super_cats = 0\n",
        "for cat_it in categories:\n",
        "    cat_names.append(cat_it['name'])\n",
        "    super_cat_name = cat_it['supercategory']\n",
        "    # 발견된 상위 범주를 목록에 추가합니다.\n",
        "    if super_cat_name != super_cat_last_name:\n",
        "        super_cat_names.append(super_cat_name)\n",
        "        super_cat_ids[super_cat_name] = nr_super_cats\n",
        "        super_cat_last_name = super_cat_name\n",
        "        nr_super_cats += 1\n",
        "\n",
        "print('Number of super categories:', nr_super_cats)\n",
        "print('Number of categories:', nr_cats)\n",
        "print('Number of annotations:', nr_annotations)\n",
        "print('Number of images:', nr_images)"
      ],
      "metadata": {
        "colab": {
          "base_uri": "https://localhost:8080/"
        },
        "id": "wotSu5TQxAGS",
        "outputId": "d326884e-59ca-40ed-aa96-f25fc9101dfd"
      },
      "id": "wotSu5TQxAGS",
      "execution_count": null,
      "outputs": [
        {
          "output_type": "stream",
          "name": "stdout",
          "text": [
            "Number of super categories: 28\n",
            "Number of categories: 60\n",
            "Number of annotations: 4784\n",
            "Number of images: 1500\n"
          ]
        }
      ]
    },
    {
      "cell_type": "code",
      "source": [
        "cat_ids_2_supercat_ids = {}\n",
        "for cat in categories:\n",
        "    cat_ids_2_supercat_ids[cat['id']] = super_cat_ids[cat['supercategory']]\n",
        "\n",
        "# 상위 범주 별로 어노테이션의 수를 셉니다.\n",
        "super_cat_histogram = np.zeros(nr_super_cats,dtype=int)\n",
        "for ann in anns:\n",
        "    cat_id = ann['category_id']\n",
        "    super_cat_histogram[cat_ids_2_supercat_ids[cat_id]] +=1\n",
        "    \n",
        "# 상위 범주별 어노테이션 수의 비율을 도표로 확인합니다.\n",
        "f, ax = plt.subplots(figsize=(5,10))\n",
        "\n",
        "d = {'Super categories': super_cat_names, 'Number of annotations': super_cat_histogram}\n",
        "df = pd.DataFrame(d)\n",
        "df = df.sort_values('Number of annotations', 0, False)\n",
        "\n",
        "plot_1 = sns.barplot(x=\"Number of annotations\", y=\"Super categories\", data=df, label=\"Total\", color=\"b\") # , orient=1"
      ],
      "metadata": {
        "colab": {
          "base_uri": "https://localhost:8080/",
          "height": 611
        },
        "id": "QPQe_AaJwzOx",
        "outputId": "df86bca6-e0e2-4c8e-ad0f-7ec98f50861a"
      },
      "id": "QPQe_AaJwzOx",
      "execution_count": null,
      "outputs": [
        {
          "output_type": "display_data",
          "data": {
            "text/plain": [
              "<Figure size 360x720 with 1 Axes>"
            ],
            "image/png": "[encoded data removed]"
          },
          "metadata": {
            "needs_background": "light"
          }
        }
      ]
    },
    {
      "cell_type": "markdown",
      "source": [
        "- super categories로 샘플 분포를 살펴보아도 불균형이 심한 것을 확인할 수 있습니다.\n",
        "- 'Plastic bag & wrapper' 외 나머지 범주를 모두 'Other'로 변경하여 거리에서 흔하게 발견되는 비닐봉지류를 탐지하는 모델을 구축합니다."
      ],
      "metadata": {
        "id": "bUIh2y2BxJ3A"
      },
      "id": "bUIh2y2BxJ3A"
    },
    {
      "cell_type": "markdown",
      "id": "CRWUTXES8g-1",
      "metadata": {
        "id": "CRWUTXES8g-1"
      },
      "source": [
        "### 어노테이션 데이터 로드\n",
        "- TACO 데이터세트의 양식의 COCO 데이터세트의 양식과 동일합니다.\n",
        "- pycocotools의 COCO 모듈을 불러와 전처리 작업을 수행합니다."
      ]
    },
    {
      "cell_type": "code",
      "execution_count": null,
      "id": "ac6082f2",
      "metadata": {
        "colab": {
          "base_uri": "https://localhost:8080/"
        },
        "execution": {
          "iopub.execute_input": "2022-03-10T02:04:36.617374Z",
          "iopub.status.busy": "2022-03-10T02:04:36.616856Z",
          "iopub.status.idle": "2022-03-10T02:04:36.834736Z",
          "shell.execute_reply": "2022-03-10T02:04:36.833926Z",
          "shell.execute_reply.started": "2022-03-10T02:00:31.923270Z"
        },
        "id": "ac6082f2",
        "outputId": "850b7fd8-b426-4c2c-bda7-7504222428e3",
        "papermill": {
          "duration": 0.260312,
          "end_time": "2022-03-10T02:04:36.834866",
          "exception": false,
          "start_time": "2022-03-10T02:04:36.574554",
          "status": "completed"
        },
        "tags": []
      },
      "outputs": [
        {
          "output_type": "stream",
          "name": "stdout",
          "text": [
            "loading annotations into memory...\n",
            "Done (t=0.06s)\n",
            "creating index...\n",
            "index created!\n"
          ]
        }
      ],
      "source": [
        "annotation_path = '/content/input/tacotrashdataset/data/annotations.json'\n",
        "\n",
        "data_source = COCO(annotation_file=annotation_path)\n",
        "catIds = data_source.getCatIds()\n",
        "categories = data_source.loadCats(catIds)\n",
        "categories.sort(key=lambda x: x['id'])"
      ]
    },
    {
      "cell_type": "markdown",
      "source": [
        "상위 범주의 ID를 모두 0으로 초기화하고 target으로 설정한 클래스에 대해서만 ID를 다시 부여하겠습니다."
      ],
      "metadata": {
        "id": "M6qdCjj4mfha"
      },
      "id": "M6qdCjj4mfha"
    },
    {
      "cell_type": "code",
      "source": [
        "targets = ['Other', 'Plastic bag & wrapper', 'Cigarette', 'Bottle', 'Bottle cap', 'Can']\n",
        "targets = ['Other', 'Plastic bag & wrapper']"
      ],
      "metadata": {
        "id": "YrSzXTK3pdQL"
      },
      "id": "YrSzXTK3pdQL",
      "execution_count": null,
      "outputs": []
    },
    {
      "cell_type": "code",
      "source": [
        "labels = sorted(list({category['supercategory'] for category in categories}))\n",
        "label2id = {k: 0 for k in labels}"
      ],
      "metadata": {
        "id": "IwR0_Bslnhkc"
      },
      "id": "IwR0_Bslnhkc",
      "execution_count": null,
      "outputs": []
    },
    {
      "cell_type": "code",
      "source": [
        "for target in targets:\n",
        "    label2id[target] = targets.index(target)"
      ],
      "metadata": {
        "id": "VNvi0EX1pYLv"
      },
      "id": "VNvi0EX1pYLv",
      "execution_count": null,
      "outputs": []
    },
    {
      "cell_type": "code",
      "source": [
        "label2id"
      ],
      "metadata": {
        "colab": {
          "base_uri": "https://localhost:8080/"
        },
        "id": "CS8b-r0XrMjZ",
        "outputId": "5a30a32e-f387-4069-aa70-607cd8345918"
      },
      "id": "CS8b-r0XrMjZ",
      "execution_count": null,
      "outputs": [
        {
          "output_type": "execute_result",
          "data": {
            "text/plain": [
              "{'Aluminium foil': 0,\n",
              " 'Battery': 0,\n",
              " 'Blister pack': 0,\n",
              " 'Bottle': 0,\n",
              " 'Bottle cap': 0,\n",
              " 'Broken glass': 0,\n",
              " 'Can': 0,\n",
              " 'Carton': 0,\n",
              " 'Cigarette': 0,\n",
              " 'Cup': 0,\n",
              " 'Food waste': 0,\n",
              " 'Glass jar': 0,\n",
              " 'Lid': 0,\n",
              " 'Other plastic': 0,\n",
              " 'Paper': 0,\n",
              " 'Paper bag': 0,\n",
              " 'Plastic bag & wrapper': 1,\n",
              " 'Plastic container': 0,\n",
              " 'Plastic glooves': 0,\n",
              " 'Plastic utensils': 0,\n",
              " 'Pop tab': 0,\n",
              " 'Rope & strings': 0,\n",
              " 'Scrap metal': 0,\n",
              " 'Shoe': 0,\n",
              " 'Squeezable tube': 0,\n",
              " 'Straw': 0,\n",
              " 'Styrofoam piece': 0,\n",
              " 'Unlabeled litter': 0,\n",
              " 'Other': 0}"
            ]
          },
          "metadata": {},
          "execution_count": 14
        }
      ]
    },
    {
      "cell_type": "markdown",
      "id": "JbwL7upY7q5n",
      "metadata": {
        "id": "JbwL7upY7q5n"
      },
      "source": [
        "### 아이디 재지정을 위한 사전 생성"
      ]
    },
    {
      "cell_type": "markdown",
      "source": [
        "실제 어노테이션에 설정되어 있는 ID를 위에서 재정의한 상위 범주별 ID로 교체하기 위해 위에서 선언한 label2id를 활용하여 ID2ID 사전인 labels_transfer를 생성합니다. "
      ],
      "metadata": {
        "id": "_Ckf2kcsm1jg"
      },
      "id": "_Ckf2kcsm1jg"
    },
    {
      "cell_type": "code",
      "execution_count": null,
      "id": "a9da9e28",
      "metadata": {
        "execution": {
          "iopub.execute_input": "2022-03-10T02:04:37.000019Z",
          "iopub.status.busy": "2022-03-10T02:04:36.999235Z",
          "iopub.status.idle": "2022-03-10T02:04:37.001262Z",
          "shell.execute_reply": "2022-03-10T02:04:37.001679Z",
          "shell.execute_reply.started": "2022-03-10T02:00:32.235026Z"
        },
        "id": "a9da9e28",
        "papermill": {
          "duration": 0.044555,
          "end_time": "2022-03-10T02:04:37.001811",
          "exception": false,
          "start_time": "2022-03-10T02:04:36.957256",
          "status": "completed"
        },
        "tags": []
      },
      "outputs": [],
      "source": [
        "labels_transfer = {}\n",
        "\n",
        "for c in categories:\n",
        "    labels_transfer[c['id']] = label2id[c['supercategory']]"
      ]
    },
    {
      "cell_type": "markdown",
      "id": "X0NVbK0w8vyc",
      "metadata": {
        "id": "X0NVbK0w8vyc"
      },
      "source": [
        "### 이미지/라벨 저장 폴더 생성"
      ]
    },
    {
      "cell_type": "code",
      "execution_count": null,
      "id": "65422bfb",
      "metadata": {
        "execution": {
          "iopub.execute_input": "2022-03-10T02:04:37.080986Z",
          "iopub.status.busy": "2022-03-10T02:04:37.080204Z",
          "iopub.status.idle": "2022-03-10T02:04:38.444732Z",
          "shell.execute_reply": "2022-03-10T02:04:38.443296Z",
          "shell.execute_reply.started": "2022-03-10T02:00:32.249682Z"
        },
        "id": "65422bfb",
        "papermill": {
          "duration": 1.404722,
          "end_time": "2022-03-10T02:04:38.444905",
          "exception": false,
          "start_time": "2022-03-10T02:04:37.040183",
          "status": "completed"
        },
        "tags": []
      },
      "outputs": [],
      "source": [
        "!rm -rf tmp\n",
        "!mkdir -p tmp/images tmp/labels"
      ]
    },
    {
      "cell_type": "markdown",
      "id": "hj6YMDyU82td",
      "metadata": {
        "id": "hj6YMDyU82td"
      },
      "source": [
        "### yolov5 포맷에 맞춰 어노테이션 변환\n",
        "- TACO 데이터세트의 BBOX 어노테이션은 top_x, top_y, width, height로 되어 있습니다.\n",
        "- 이를 cen_x, cen_y, width, height로 변환하고 0~1 사이의 값으로 표준화합니다.\n",
        "- 또한 labels_transfer 사전을 활용해 ID를 재설정합니다."
      ]
    },
    {
      "cell_type": "code",
      "execution_count": null,
      "id": "e2e916dc",
      "metadata": {
        "execution": {
          "iopub.execute_input": "2022-03-10T02:04:38.576468Z",
          "iopub.status.busy": "2022-03-10T02:04:38.575638Z",
          "iopub.status.idle": "2022-03-10T02:04:38.577695Z",
          "shell.execute_reply": "2022-03-10T02:04:38.578296Z",
          "shell.execute_reply.started": "2022-03-10T02:00:33.772091Z"
        },
        "id": "e2e916dc",
        "papermill": {
          "duration": 0.070134,
          "end_time": "2022-03-10T02:04:38.578487",
          "exception": false,
          "start_time": "2022-03-10T02:04:38.508353",
          "status": "completed"
        },
        "tags": []
      },
      "outputs": [],
      "source": [
        "IMAGES_PATH = 'tmp/images/'\n",
        "LABELS_PATH = 'tmp/labels/'"
      ]
    },
    {
      "cell_type": "code",
      "execution_count": null,
      "id": "53335351",
      "metadata": {
        "colab": {
          "base_uri": "https://localhost:8080/"
        },
        "execution": {
          "iopub.execute_input": "2022-03-10T02:04:38.700146Z",
          "iopub.status.busy": "2022-03-10T02:04:38.699374Z",
          "iopub.status.idle": "2022-03-10T02:05:18.872267Z",
          "shell.execute_reply": "2022-03-10T02:05:18.872717Z",
          "shell.execute_reply.started": "2022-03-10T02:00:33.780596Z"
        },
        "id": "53335351",
        "outputId": "8e91143a-84e2-457c-bb34-5ecb46d3a5b7",
        "papermill": {
          "duration": 40.232323,
          "end_time": "2022-03-10T02:05:18.872864",
          "exception": false,
          "start_time": "2022-03-10T02:04:38.640541",
          "status": "completed"
        },
        "tags": []
      },
      "outputs": [
        {
          "output_type": "stream",
          "name": "stderr",
          "text": [
            "1500it [00:09, 150.86it/s]\n"
          ]
        }
      ],
      "source": [
        "img_ids = data_source.getImgIds()\n",
        "\n",
        "for index, img_id in tqdm.tqdm(enumerate(img_ids)):\n",
        "    img_info = data_source.loadImgs(img_id)[0]\n",
        "    \n",
        "    # 배치별로 나뉘어 있는 이미지를 images 폴더 하나로 옮겨 줍니다.\n",
        "    # img_dir: batch_x/.....jpg ---> batch_x_......jpg\n",
        "    img_dir = img_info['file_name'].replace('/', '_')\n",
        "    \n",
        "    image_name = img_dir.split('.')[0]\n",
        "    label_dir = LABELS_PATH + image_name + '.txt'\n",
        "    \n",
        "    height = img_info['height']\n",
        "    width = img_info['width']\n",
        "    \n",
        "    # image를 위에서 정의한 양식에 따라 복사합니다.\n",
        "    shutil.copy(f\"/content/input/tacotrashdataset/data/{img_info['file_name']}\", os.path.join(IMAGES_PATH, img_dir))\n",
        "\n",
        "    # label 데이터를 불러와 전처리를 수행하고 파일을 생성합니다.\n",
        "    # 파일명의 양식은 위에서 정의한 바와 같이 image와 동일하며 txt 확장자로 저장합니다.\n",
        "    with open(label_dir, mode='w') as fp:\n",
        "        annotation_id = data_source.getAnnIds(img_id)\n",
        "        if len(annotation_id) == 0:\n",
        "            fp.write('')\n",
        "            continue\n",
        "        boxes = np.zeros((0, 5))\n",
        "        annotations = data_source.loadAnns(annotation_id)\n",
        "        lines = ''\n",
        "        for annotation in annotations:\n",
        "            label = labels_transfer[annotation['category_id']] # labels_transfer 사전을 활용해 ID 재설정\n",
        "            box = annotation['bbox']\n",
        "            # width와 height 정보가 너무 작은 값인 어노테이션의 경우 포함하지 않도록 합니다.\n",
        "            if box[2] < 1 or box[3] < 1:\n",
        "                continue\n",
        "            # TACO 데이터세트에 맞춰 양식을 변환합니다. top_x,top_y,width,height ----> cen_x,cen_y,width,height\n",
        "            # 0~1 사이로 값을 조정해줍니다.\n",
        "            if width > height:\n",
        "                halfpad = (width - height) / 2\n",
        "                box[0] = round((box[0] + box[2] / 2) / width, 6)\n",
        "                box[1] = round(((box[1] + box[3] / 2) + halfpad) / width, 6)\n",
        "                box[2] = round(box[2] / width, 6)\n",
        "                box[3] = round(box[3] / width, 6)\n",
        "            else:\n",
        "                halfpad = (height - width) / 2\n",
        "                box[0] = round(((box[0] + box[2] / 2) + halfpad) / height, 6)\n",
        "                box[1] = round((box[1] + box[3] / 2) / height, 6)\n",
        "                box[2] = round(box[2] / height, 6)\n",
        "                box[3] = round(box[3] / height, 6)\n",
        "            # 실제로 txt 파일에 들어갈 어노테이션 값들을 한 줄씩 추가해줍니다. label x_center y_center width height\n",
        "            lines = lines + str(label)\n",
        "            for i in box:\n",
        "                lines += ' ' + str(i)\n",
        "            lines += '\\n'\n",
        "        fp.writelines(lines)"
      ]
    },
    {
      "cell_type": "code",
      "execution_count": null,
      "id": "96ba5430",
      "metadata": {
        "colab": {
          "base_uri": "https://localhost:8080/"
        },
        "execution": {
          "iopub.execute_input": "2022-03-10T02:05:19.147169Z",
          "iopub.status.busy": "2022-03-10T02:05:19.146117Z",
          "iopub.status.idle": "2022-03-10T02:05:19.152157Z",
          "shell.execute_reply": "2022-03-10T02:05:19.151706Z",
          "shell.execute_reply.started": "2022-03-10T02:01:19.567743Z"
        },
        "id": "96ba5430",
        "outputId": "16fd5663-78d1-4cee-9cdf-0080029fb580",
        "papermill": {
          "duration": 0.145299,
          "end_time": "2022-03-10T02:05:19.152264",
          "exception": false,
          "start_time": "2022-03-10T02:05:19.006965",
          "status": "completed"
        },
        "tags": []
      },
      "outputs": [
        {
          "output_type": "stream",
          "name": "stdout",
          "text": [
            "1500\n",
            "1500\n"
          ]
        }
      ],
      "source": [
        "print(len(os.listdir(IMAGES_PATH)))\n",
        "print(len(os.listdir(LABELS_PATH)))"
      ]
    },
    {
      "cell_type": "markdown",
      "source": [
        "어노테이션이 존재하지 않는 image와 label 파일을 삭제합니다."
      ],
      "metadata": {
        "id": "q3QM4mEd8T2s"
      },
      "id": "q3QM4mEd8T2s"
    },
    {
      "cell_type": "code",
      "source": [
        "label_files = glob('/content/yolov4/tmp/labels/*')\n",
        "for label_file in label_files:\n",
        "    if os.stat(label_file).st_size == 0:\n",
        "        name = label_file.split('/')[-1].split('.')[0]\n",
        "        img_file = '/content/yolov4/tmp/images/' + name + '.jpg'\n",
        "        os.remove(label_file)\n",
        "        os.remove(img_file)"
      ],
      "metadata": {
        "id": "NCRaPRMj8TNs"
      },
      "id": "NCRaPRMj8TNs",
      "execution_count": null,
      "outputs": []
    },
    {
      "cell_type": "markdown",
      "id": "auMajWGk9DOp",
      "metadata": {
        "id": "auMajWGk9DOp"
      },
      "source": [
        "### 이미지 리사이즈 및 패딩"
      ]
    },
    {
      "cell_type": "code",
      "execution_count": null,
      "id": "Po_ou7ip1b-n",
      "metadata": {
        "id": "Po_ou7ip1b-n"
      },
      "outputs": [],
      "source": [
        "filenames = glob('/content/yolov5/tmp/images/*.*')"
      ]
    },
    {
      "cell_type": "code",
      "source": [
        "target_size = 640"
      ],
      "metadata": {
        "id": "0AmF-4fS3y2y"
      },
      "id": "0AmF-4fS3y2y",
      "execution_count": null,
      "outputs": []
    },
    {
      "cell_type": "code",
      "execution_count": null,
      "id": "XxJABNtl06w5",
      "metadata": {
        "id": "XxJABNtl06w5"
      },
      "outputs": [],
      "source": [
        "for filename in filenames:\n",
        "    img = cv2.imread(filename)\n",
        "\n",
        "    # 이미지의 가로, 세로 중 큰 쪽을 target_size에 맞춰 리사이즈합니다.\n",
        "    percent = 1\n",
        "    if(img.shape[1] > img.shape[0]):\n",
        "        percent = target_size/img.shape[1]\n",
        "    else:\n",
        "        percent = target_size/img.shape[0]\n",
        "\n",
        "    img = cv2.resize(img, dsize=(0, 0), fx=percent, fy=percent, interpolation=cv2.INTER_LINEAR)\n",
        "    \n",
        "    ### 어파인 변환을 활용한 블랙패딩\n",
        "    \n",
        "    # 이미지 초기값 설정\n",
        "    y,x,h,w = (0,0,img.shape[0], img.shape[1])\n",
        "\n",
        "    # 어파인 변환 시 이동값 설정\n",
        "    w_x = (target_size-(w-x))/2  # [ 그림나머지/2 [그림] 그림나머지/2 ]\n",
        "    h_y = (target_size-(h-y))/2\n",
        "\n",
        "    if(w_x < 0):\n",
        "        w_x = 0\n",
        "    elif(h_y < 0):\n",
        "        h_y = 0\n",
        "\n",
        "    M = np.float32([[1,0,w_x], [0,1,h_y]])  # 어파인 변환 행렬\n",
        "    img_re = cv2.warpAffine(img, M, (target_size, target_size)) # 어파인 변환\n",
        "    \n",
        "    cv2.imwrite(filename, img_re)"
      ]
    },
    {
      "cell_type": "markdown",
      "id": "aFnX1kg19Kx4",
      "metadata": {
        "id": "aFnX1kg19Kx4"
      },
      "source": [
        "### 훈련/검증 세트 분할"
      ]
    },
    {
      "cell_type": "code",
      "source": [
        "!rm -rf /content/yolov5/taco\n",
        "splitfolders.ratio('tmp', output='taco', seed=777, ratio=(0.8, 0.2,)) "
      ],
      "metadata": {
        "id": "GMW_3cRKEwUF",
        "colab": {
          "base_uri": "https://localhost:8080/"
        },
        "outputId": "9883ea19-b007-421b-f991-19cf25c7e924"
      },
      "id": "GMW_3cRKEwUF",
      "execution_count": null,
      "outputs": [
        {
          "output_type": "stream",
          "name": "stderr",
          "text": [
            "Copying files: 3000 files [00:00, 3895.06 files/s]\n"
          ]
        }
      ]
    },
    {
      "cell_type": "code",
      "execution_count": null,
      "id": "xOhafDcawHmu",
      "metadata": {
        "colab": {
          "base_uri": "https://localhost:8080/"
        },
        "id": "xOhafDcawHmu",
        "outputId": "6cf33bef-b615-40f9-f4ab-4b81d357a2e8"
      },
      "outputs": [
        {
          "output_type": "stream",
          "name": "stdout",
          "text": [
            "1200\n",
            "300\n"
          ]
        }
      ],
      "source": [
        "print(len(os.listdir('/content/yolov5/taco/train/labels')))\n",
        "print(len(os.listdir('/content/yolov5/taco/val/labels')))"
      ]
    },
    {
      "cell_type": "markdown",
      "id": "Dd8HTk3s9kpc",
      "metadata": {
        "id": "Dd8HTk3s9kpc"
      },
      "source": [
        "### 설정 파일 생성 및 수정"
      ]
    },
    {
      "cell_type": "markdown",
      "id": "hGjZX05z6Xm-",
      "metadata": {
        "id": "hGjZX05z6Xm-"
      },
      "source": [
        "/content/yolov5/dataset.yaml\n",
        "```\n",
        "train: /content/yolov5/taco/train\n",
        "val: /content/yolov5/taco/val\n",
        "\n",
        "# Classes\n",
        "nc: 2  # number of classes\n",
        "names: [ 'Other', 'Plastic bag & wrapper' ]  # class names\n",
        "```"
      ]
    },
    {
      "cell_type": "code",
      "execution_count": null,
      "id": "3sjgXjB58TvR",
      "metadata": {
        "id": "3sjgXjB58TvR"
      },
      "outputs": [],
      "source": [
        "%%bash\n",
        "rm -rf dataset.yaml \n",
        "touch dataset.yaml\n",
        "\n",
        "cat > dataset.yaml << EOL\n",
        "train: /content/yolov5/taco/train\n",
        "val: /content/yolov5/taco/val\n",
        "\n",
        "# Classes\n",
        "nc: 2  # number of classes\n",
        "names: [ 'Other', 'Plastic bag & wrapper' ]  # class names\n",
        "EOL"
      ]
    },
    {
      "cell_type": "markdown",
      "id": "WEtXQiaZ9rsT",
      "metadata": {
        "id": "WEtXQiaZ9rsT"
      },
      "source": [
        "### 훈련 시작"
      ]
    },
    {
      "cell_type": "code",
      "execution_count": null,
      "id": "59a414b4",
      "metadata": {
        "colab": {
          "base_uri": "https://localhost:8080/"
        },
        "execution": {
          "iopub.execute_input": "2022-03-10T02:05:53.657470Z",
          "iopub.status.busy": "2022-03-10T02:05:53.656737Z",
          "iopub.status.idle": "2022-03-10T09:23:47.527095Z",
          "shell.execute_reply": "2022-03-10T09:23:47.525613Z",
          "shell.execute_reply.started": "2022-03-10T02:02:00.879019Z"
        },
        "id": "59a414b4",
        "outputId": "7b1c8a1b-be30-4b24-a090-d29089235a57",
        "papermill": {
          "duration": 26274.02124,
          "end_time": "2022-03-10T09:23:47.527271",
          "exception": false,
          "start_time": "2022-03-10T02:05:53.506031",
          "status": "completed"
        },
        "tags": []
      },
      "outputs": [
        {
          "output_type": "stream",
          "name": "stdout",
          "text": [
            "\u001b[34m\u001b[1mwandb\u001b[0m: (1) Create a W&B account\n",
            "\u001b[34m\u001b[1mwandb\u001b[0m: (2) Use an existing W&B account\n",
            "\u001b[34m\u001b[1mwandb\u001b[0m: (3) Don't visualize my results\n",
            "\u001b[34m\u001b[1mwandb\u001b[0m: Enter your choice: (30 second timeout) 3\n",
            "\u001b[34m\u001b[1mwandb\u001b[0m: You chose 'Don't visualize my results'\n",
            "\u001b[34m\u001b[1mtrain: \u001b[0mweights=yolov5m.pt, cfg=models/yolov5m.yaml, data=dataset.yaml, hyp=data/hyps/hyp.scratch-low.yaml, epochs=100, batch_size=32, imgsz=640, rect=False, resume=False, nosave=False, noval=False, noautoanchor=False, noplots=False, evolve=None, bucket=, cache=None, image_weights=False, device=, multi_scale=False, single_cls=False, optimizer=SGD, sync_bn=False, workers=8, project=runs/train, name=exp, exist_ok=False, quad=False, cos_lr=False, label_smoothing=0.0, patience=100, freeze=[0], save_period=-1, seed=0, local_rank=-1, entity=None, upload_dataset=False, bbox_interval=-1, artifact_alias=latest\n",
            "\u001b[34m\u001b[1mgithub: \u001b[0mup to date with https://github.com/ultralytics/yolov5 ✅\n",
            "YOLOv5 🚀 v7.0-53-g65071da Python-3.8.16 torch-1.13.0+cu116 CUDA:0 (Tesla T4, 15110MiB)\n",
            "\n",
            "\u001b[34m\u001b[1mhyperparameters: \u001b[0mlr0=0.01, lrf=0.01, momentum=0.937, weight_decay=0.0005, warmup_epochs=3.0, warmup_momentum=0.8, warmup_bias_lr=0.1, box=0.05, cls=0.5, cls_pw=1.0, obj=1.0, obj_pw=1.0, iou_t=0.2, anchor_t=4.0, fl_gamma=0.0, hsv_h=0.015, hsv_s=0.7, hsv_v=0.4, degrees=0.0, translate=0.1, scale=0.5, shear=0.0, perspective=0.0, flipud=0.0, fliplr=0.5, mosaic=1.0, mixup=0.0, copy_paste=0.0\n",
            "\u001b[34m\u001b[1mClearML: \u001b[0mrun 'pip install clearml' to automatically track, visualize and remotely train YOLOv5 🚀 in ClearML\n",
            "\u001b[34m\u001b[1mComet: \u001b[0mrun 'pip install comet_ml' to automatically track and visualize YOLOv5 🚀 runs in Comet\n",
            "\u001b[34m\u001b[1mTensorBoard: \u001b[0mStart with 'tensorboard --logdir runs/train', view at http://localhost:6006/\n",
            "Downloading https://ultralytics.com/assets/Arial.ttf to /root/.config/Ultralytics/Arial.ttf...\n",
            "100% 755k/755k [00:00<00:00, 152MB/s]\n",
            "Downloading https://github.com/ultralytics/yolov5/releases/download/v7.0/yolov5m.pt to yolov5m.pt...\n",
            "100% 40.8M/40.8M [00:05<00:00, 7.14MB/s]\n",
            "\n",
            "Overriding model.yaml nc=80 with nc=2\n",
            "\n",
            "                 from  n    params  module                                  arguments                     \n",
            "  0                -1  1      5280  models.common.Conv                      [3, 48, 6, 2, 2]              \n",
            "  1                -1  1     41664  models.common.Conv                      [48, 96, 3, 2]                \n",
            "  2                -1  2     65280  models.common.C3                        [96, 96, 2]                   \n",
            "  3                -1  1    166272  models.common.Conv                      [96, 192, 3, 2]               \n",
            "  4                -1  4    444672  models.common.C3                        [192, 192, 4]                 \n",
            "  5                -1  1    664320  models.common.Conv                      [192, 384, 3, 2]              \n",
            "  6                -1  6   2512896  models.common.C3                        [384, 384, 6]                 \n",
            "  7                -1  1   2655744  models.common.Conv                      [384, 768, 3, 2]              \n",
            "  8                -1  2   4134912  models.common.C3                        [768, 768, 2]                 \n",
            "  9                -1  1   1476864  models.common.SPPF                      [768, 768, 5]                 \n",
            " 10                -1  1    295680  models.common.Conv                      [768, 384, 1, 1]              \n",
            " 11                -1  1         0  torch.nn.modules.upsampling.Upsample    [None, 2, 'nearest']          \n",
            " 12           [-1, 6]  1         0  models.common.Concat                    [1]                           \n",
            " 13                -1  2   1182720  models.common.C3                        [768, 384, 2, False]          \n",
            " 14                -1  1     74112  models.common.Conv                      [384, 192, 1, 1]              \n",
            " 15                -1  1         0  torch.nn.modules.upsampling.Upsample    [None, 2, 'nearest']          \n",
            " 16           [-1, 4]  1         0  models.common.Concat                    [1]                           \n",
            " 17                -1  2    296448  models.common.C3                        [384, 192, 2, False]          \n",
            " 18                -1  1    332160  models.common.Conv                      [192, 192, 3, 2]              \n",
            " 19          [-1, 14]  1         0  models.common.Concat                    [1]                           \n",
            " 20                -1  2   1035264  models.common.C3                        [384, 384, 2, False]          \n",
            " 21                -1  1   1327872  models.common.Conv                      [384, 384, 3, 2]              \n",
            " 22          [-1, 10]  1         0  models.common.Concat                    [1]                           \n",
            " 23                -1  2   4134912  models.common.C3                        [768, 768, 2, False]          \n",
            " 24      [17, 20, 23]  1     28287  models.yolo.Detect                      [2, [[10, 13, 16, 30, 33, 23], [30, 61, 62, 45, 59, 119], [116, 90, 156, 198, 373, 326]], [192, 384, 768]]\n",
            "YOLOv5m summary: 291 layers, 20875359 parameters, 20875359 gradients, 48.2 GFLOPs\n",
            "\n",
            "Transferred 474/481 items from yolov5m.pt\n",
            "\u001b[34m\u001b[1mAMP: \u001b[0mchecks passed ✅\n",
            "\u001b[34m\u001b[1moptimizer:\u001b[0m SGD(lr=0.01) with parameter groups 79 weight(decay=0.0), 82 weight(decay=0.0005), 82 bias\n",
            "\u001b[34m\u001b[1malbumentations: \u001b[0mBlur(p=0.01, blur_limit=(3, 7)), MedianBlur(p=0.01, blur_limit=(3, 7)), ToGray(p=0.01), CLAHE(p=0.01, clip_limit=(1, 4.0), tile_grid_size=(8, 8))\n",
            "\u001b[34m\u001b[1mtrain: \u001b[0mScanning /content/yolov5/taco/train/labels... 1200 images, 1 backgrounds, 0 corrupt: 100% 1200/1200 [00:00<00:00, 1936.92it/s]\n",
            "\u001b[34m\u001b[1mtrain: \u001b[0mNew cache created: /content/yolov5/taco/train/labels.cache\n",
            "\u001b[34m\u001b[1mval: \u001b[0mScanning /content/yolov5/taco/val/labels... 300 images, 0 backgrounds, 0 corrupt: 100% 300/300 [00:00<00:00, 684.13it/s]\n",
            "\u001b[34m\u001b[1mval: \u001b[0mNew cache created: /content/yolov5/taco/val/labels.cache\n",
            "\n",
            "\u001b[34m\u001b[1mAutoAnchor: \u001b[0m4.14 anchors/target, 0.973 Best Possible Recall (BPR). Anchors are a poor fit to dataset ⚠️, attempting to improve...\n",
            "\u001b[34m\u001b[1mAutoAnchor: \u001b[0mWARNING ⚠️ Extremely small objects found: 99 of 3861 labels are <3 pixels in size\n",
            "\u001b[34m\u001b[1mAutoAnchor: \u001b[0mRunning kmeans for 9 anchors on 3861 points...\n",
            "\u001b[34m\u001b[1mAutoAnchor: \u001b[0mEvolving anchors with Genetic Algorithm: fitness = 0.7089: 100% 1000/1000 [00:04<00:00, 208.14it/s]\n",
            "\u001b[34m\u001b[1mAutoAnchor: \u001b[0mthr=0.25: 0.9984 best possible recall, 3.95 anchors past thr\n",
            "\u001b[34m\u001b[1mAutoAnchor: \u001b[0mn=9, img_size=640, metric_all=0.277/0.709-mean/best, past_thr=0.493-mean: 7,5, 12,11, 22,19, 40,37, 62,61, 100,96, 174,157, 140,318, 298,259\n",
            "\u001b[34m\u001b[1mAutoAnchor: \u001b[0mDone ✅ (optional: update model *.yaml to use these anchors in the future)\n",
            "Plotting labels to runs/train/exp/labels.jpg... \n",
            "Image sizes 640 train, 640 val\n",
            "Using 2 dataloader workers\n",
            "Logging results to \u001b[1mruns/train/exp\u001b[0m\n",
            "Starting training for 100 epochs...\n",
            "\n",
            "      Epoch    GPU_mem   box_loss   obj_loss   cls_loss  Instances       Size\n",
            "       0/99      12.1G     0.1013     0.0289    0.02439         71        640: 100% 38/38 [00:48<00:00,  1.29s/it]\n",
            "                 Class     Images  Instances          P          R      mAP50   mAP50-95: 100% 5/5 [00:07<00:00,  1.40s/it]\n",
            "                   all        300        921      0.614      0.104      0.076     0.0259\n",
            "\n",
            "      Epoch    GPU_mem   box_loss   obj_loss   cls_loss  Instances       Size\n",
            "       1/99      10.8G    0.07074    0.02824     0.0186         79        640: 100% 38/38 [00:43<00:00,  1.14s/it]\n",
            "                 Class     Images  Instances          P          R      mAP50   mAP50-95: 100% 5/5 [00:07<00:00,  1.46s/it]\n",
            "                   all        300        921      0.131      0.293      0.118     0.0398\n",
            "\n",
            "      Epoch    GPU_mem   box_loss   obj_loss   cls_loss  Instances       Size\n",
            "       2/99      10.8G    0.06549    0.02397    0.01811         56        640: 100% 38/38 [00:43<00:00,  1.16s/it]\n",
            "                 Class     Images  Instances          P          R      mAP50   mAP50-95: 100% 5/5 [00:07<00:00,  1.43s/it]\n",
            "                   all        300        921      0.137      0.285      0.124     0.0473\n",
            "\n",
            "      Epoch    GPU_mem   box_loss   obj_loss   cls_loss  Instances       Size\n",
            "       3/99      10.8G     0.0583    0.02263    0.01716         54        640: 100% 38/38 [00:48<00:00,  1.27s/it]\n",
            "                 Class     Images  Instances          P          R      mAP50   mAP50-95: 100% 5/5 [00:06<00:00,  1.28s/it]\n",
            "                   all        300        921      0.199      0.371      0.185     0.0781\n",
            "\n",
            "      Epoch    GPU_mem   box_loss   obj_loss   cls_loss  Instances       Size\n",
            "       4/99      10.8G    0.05336    0.02221    0.01595         70        640: 100% 38/38 [00:44<00:00,  1.17s/it]\n",
            "                 Class     Images  Instances          P          R      mAP50   mAP50-95: 100% 5/5 [00:06<00:00,  1.27s/it]\n",
            "                   all        300        921      0.391      0.316      0.277      0.136\n",
            "\n",
            "      Epoch    GPU_mem   box_loss   obj_loss   cls_loss  Instances       Size\n",
            "       5/99      10.8G    0.05026    0.02107    0.01421         67        640: 100% 38/38 [00:44<00:00,  1.17s/it]\n",
            "                 Class     Images  Instances          P          R      mAP50   mAP50-95: 100% 5/5 [00:05<00:00,  1.18s/it]\n",
            "                   all        300        921      0.386      0.346      0.281      0.146\n",
            "\n",
            "      Epoch    GPU_mem   box_loss   obj_loss   cls_loss  Instances       Size\n",
            "       6/99      10.8G    0.04882    0.02105    0.01364         64        640: 100% 38/38 [00:43<00:00,  1.14s/it]\n",
            "                 Class     Images  Instances          P          R      mAP50   mAP50-95: 100% 5/5 [00:06<00:00,  1.34s/it]\n",
            "                   all        300        921        0.3      0.384      0.245      0.136\n",
            "\n",
            "      Epoch    GPU_mem   box_loss   obj_loss   cls_loss  Instances       Size\n",
            "       7/99      10.8G    0.04817    0.02025    0.01328         75        640: 100% 38/38 [00:45<00:00,  1.20s/it]\n",
            "                 Class     Images  Instances          P          R      mAP50   mAP50-95: 100% 5/5 [00:07<00:00,  1.53s/it]\n",
            "                   all        300        921      0.401       0.34      0.279      0.159\n",
            "\n",
            "      Epoch    GPU_mem   box_loss   obj_loss   cls_loss  Instances       Size\n",
            "       8/99      10.8G    0.04554    0.02053    0.01306         94        640: 100% 38/38 [00:44<00:00,  1.16s/it]\n",
            "                 Class     Images  Instances          P          R      mAP50   mAP50-95: 100% 5/5 [00:05<00:00,  1.19s/it]\n",
            "                   all        300        921      0.289      0.302      0.222      0.115\n",
            "\n",
            "      Epoch    GPU_mem   box_loss   obj_loss   cls_loss  Instances       Size\n",
            "       9/99      10.8G    0.04652    0.01986    0.01273         61        640: 100% 38/38 [00:42<00:00,  1.13s/it]\n",
            "                 Class     Images  Instances          P          R      mAP50   mAP50-95: 100% 5/5 [00:06<00:00,  1.34s/it]\n",
            "                   all        300        921      0.364      0.323      0.255      0.144\n",
            "\n",
            "      Epoch    GPU_mem   box_loss   obj_loss   cls_loss  Instances       Size\n",
            "      10/99      10.8G    0.04478    0.02123    0.01137         87        640: 100% 38/38 [00:44<00:00,  1.16s/it]\n",
            "                 Class     Images  Instances          P          R      mAP50   mAP50-95: 100% 5/5 [00:06<00:00,  1.25s/it]\n",
            "                   all        300        921      0.405      0.297      0.281      0.156\n",
            "\n",
            "      Epoch    GPU_mem   box_loss   obj_loss   cls_loss  Instances       Size\n",
            "      11/99      10.8G    0.04435    0.01997    0.01135        106        640: 100% 38/38 [00:44<00:00,  1.17s/it]\n",
            "                 Class     Images  Instances          P          R      mAP50   mAP50-95: 100% 5/5 [00:07<00:00,  1.52s/it]\n",
            "                   all        300        921      0.363      0.351      0.295      0.157\n",
            "\n",
            "      Epoch    GPU_mem   box_loss   obj_loss   cls_loss  Instances       Size\n",
            "      12/99      10.8G    0.04415    0.01993    0.01114         87        640: 100% 38/38 [00:44<00:00,  1.17s/it]\n",
            "                 Class     Images  Instances          P          R      mAP50   mAP50-95: 100% 5/5 [00:06<00:00,  1.25s/it]\n",
            "                   all        300        921      0.384      0.355      0.271      0.156\n",
            "\n",
            "      Epoch    GPU_mem   box_loss   obj_loss   cls_loss  Instances       Size\n",
            "      13/99      10.8G    0.04329    0.01898    0.01046         69        640: 100% 38/38 [00:43<00:00,  1.15s/it]\n",
            "                 Class     Images  Instances          P          R      mAP50   mAP50-95: 100% 5/5 [00:06<00:00,  1.23s/it]\n",
            "                   all        300        921      0.385      0.294      0.251      0.147\n",
            "\n",
            "      Epoch    GPU_mem   box_loss   obj_loss   cls_loss  Instances       Size\n",
            "      14/99      10.8G    0.04276    0.02043   0.009523         56        640: 100% 38/38 [00:44<00:00,  1.16s/it]\n",
            "                 Class     Images  Instances          P          R      mAP50   mAP50-95: 100% 5/5 [00:06<00:00,  1.21s/it]\n",
            "                   all        300        921      0.346      0.329      0.266       0.16\n",
            "\n",
            "      Epoch    GPU_mem   box_loss   obj_loss   cls_loss  Instances       Size\n",
            "      15/99      10.8G    0.04274    0.01914   0.009274         77        640: 100% 38/38 [00:44<00:00,  1.16s/it]\n",
            "                 Class     Images  Instances          P          R      mAP50   mAP50-95: 100% 5/5 [00:05<00:00,  1.20s/it]\n",
            "                   all        300        921      0.353      0.341      0.279      0.165\n",
            "\n",
            "      Epoch    GPU_mem   box_loss   obj_loss   cls_loss  Instances       Size\n",
            "      16/99      10.8G     0.0413    0.01899   0.009153         87        640: 100% 38/38 [00:47<00:00,  1.25s/it]\n",
            "                 Class     Images  Instances          P          R      mAP50   mAP50-95: 100% 5/5 [00:06<00:00,  1.27s/it]\n",
            "                   all        300        921      0.439      0.348       0.32      0.182\n",
            "\n",
            "      Epoch    GPU_mem   box_loss   obj_loss   cls_loss  Instances       Size\n",
            "      17/99      10.8G    0.04055    0.01883   0.008362         67        640: 100% 38/38 [00:44<00:00,  1.16s/it]\n",
            "                 Class     Images  Instances          P          R      mAP50   mAP50-95: 100% 5/5 [00:06<00:00,  1.22s/it]\n",
            "                   all        300        921      0.377      0.287      0.262      0.157\n",
            "\n",
            "      Epoch    GPU_mem   box_loss   obj_loss   cls_loss  Instances       Size\n",
            "      18/99      10.8G    0.04082    0.01878   0.008836         58        640: 100% 38/38 [00:43<00:00,  1.16s/it]\n",
            "                 Class     Images  Instances          P          R      mAP50   mAP50-95: 100% 5/5 [00:06<00:00,  1.27s/it]\n",
            "                   all        300        921      0.456      0.287      0.272      0.165\n",
            "\n",
            "      Epoch    GPU_mem   box_loss   obj_loss   cls_loss  Instances       Size\n",
            "      19/99      10.8G    0.03911     0.0183   0.008737         84        640: 100% 38/38 [00:43<00:00,  1.15s/it]\n",
            "                 Class     Images  Instances          P          R      mAP50   mAP50-95: 100% 5/5 [00:06<00:00,  1.21s/it]\n",
            "                   all        300        921      0.419      0.338       0.29      0.184\n",
            "\n",
            "      Epoch    GPU_mem   box_loss   obj_loss   cls_loss  Instances       Size\n",
            "      20/99      10.8G    0.03947    0.01778    0.00727         97        640: 100% 38/38 [00:46<00:00,  1.23s/it]\n",
            "                 Class     Images  Instances          P          R      mAP50   mAP50-95: 100% 5/5 [00:06<00:00,  1.28s/it]\n",
            "                   all        300        921      0.427       0.34      0.287      0.175\n",
            "\n",
            "      Epoch    GPU_mem   box_loss   obj_loss   cls_loss  Instances       Size\n",
            "      21/99      10.8G    0.03894    0.01723   0.007822         86        640: 100% 38/38 [00:44<00:00,  1.16s/it]\n",
            "                 Class     Images  Instances          P          R      mAP50   mAP50-95: 100% 5/5 [00:05<00:00,  1.18s/it]\n",
            "                   all        300        921      0.411      0.298      0.273      0.171\n",
            "\n",
            "      Epoch    GPU_mem   box_loss   obj_loss   cls_loss  Instances       Size\n",
            "      22/99      10.8G    0.03911    0.01829   0.007327         91        640: 100% 38/38 [00:44<00:00,  1.16s/it]\n",
            "                 Class     Images  Instances          P          R      mAP50   mAP50-95: 100% 5/5 [00:06<00:00,  1.28s/it]\n",
            "                   all        300        921       0.42      0.312       0.28      0.172\n",
            "\n",
            "      Epoch    GPU_mem   box_loss   obj_loss   cls_loss  Instances       Size\n",
            "      23/99      10.8G    0.03802    0.01843   0.007637        135        640: 100% 38/38 [00:43<00:00,  1.15s/it]\n",
            "                 Class     Images  Instances          P          R      mAP50   mAP50-95: 100% 5/5 [00:06<00:00,  1.20s/it]\n",
            "                   all        300        921      0.412      0.329      0.291       0.18\n",
            "\n",
            "      Epoch    GPU_mem   box_loss   obj_loss   cls_loss  Instances       Size\n",
            "      24/99      10.8G     0.0375    0.01728   0.007251         96        640: 100% 38/38 [00:47<00:00,  1.24s/it]\n",
            "                 Class     Images  Instances          P          R      mAP50   mAP50-95: 100% 5/5 [00:06<00:00,  1.31s/it]\n",
            "                   all        300        921      0.397      0.343      0.296      0.184\n",
            "\n",
            "      Epoch    GPU_mem   box_loss   obj_loss   cls_loss  Instances       Size\n",
            "      25/99      10.8G    0.03831    0.01725    0.00684         79        640: 100% 38/38 [00:44<00:00,  1.16s/it]\n",
            "                 Class     Images  Instances          P          R      mAP50   mAP50-95: 100% 5/5 [00:05<00:00,  1.18s/it]\n",
            "                   all        300        921      0.437      0.368      0.325      0.206\n",
            "\n",
            "      Epoch    GPU_mem   box_loss   obj_loss   cls_loss  Instances       Size\n",
            "      26/99      10.8G    0.03741    0.01663   0.006608         85        640: 100% 38/38 [00:43<00:00,  1.15s/it]\n",
            "                 Class     Images  Instances          P          R      mAP50   mAP50-95: 100% 5/5 [00:06<00:00,  1.23s/it]\n",
            "                   all        300        921      0.482      0.409      0.355      0.222\n",
            "\n",
            "      Epoch    GPU_mem   box_loss   obj_loss   cls_loss  Instances       Size\n",
            "      27/99      10.8G    0.03694    0.01678   0.006296         66        640: 100% 38/38 [00:43<00:00,  1.16s/it]\n",
            "                 Class     Images  Instances          P          R      mAP50   mAP50-95: 100% 5/5 [00:05<00:00,  1.18s/it]\n",
            "                   all        300        921      0.403      0.354      0.307      0.191\n",
            "\n",
            "      Epoch    GPU_mem   box_loss   obj_loss   cls_loss  Instances       Size\n",
            "      28/99      10.8G    0.03593     0.0166   0.005767         55        640: 100% 38/38 [00:43<00:00,  1.14s/it]\n",
            "                 Class     Images  Instances          P          R      mAP50   mAP50-95: 100% 5/5 [00:08<00:00,  1.71s/it]\n",
            "                   all        300        921       0.46      0.325      0.302      0.191\n",
            "\n",
            "      Epoch    GPU_mem   box_loss   obj_loss   cls_loss  Instances       Size\n",
            "      29/99      10.8G    0.03605    0.01644   0.005363         35        640: 100% 38/38 [00:44<00:00,  1.16s/it]\n",
            "                 Class     Images  Instances          P          R      mAP50   mAP50-95: 100% 5/5 [00:06<00:00,  1.25s/it]\n",
            "                   all        300        921      0.429      0.308      0.283      0.172\n",
            "\n",
            "      Epoch    GPU_mem   box_loss   obj_loss   cls_loss  Instances       Size\n",
            "      30/99      10.8G    0.03622    0.01594   0.005657         84        640: 100% 38/38 [00:43<00:00,  1.16s/it]\n",
            "                 Class     Images  Instances          P          R      mAP50   mAP50-95: 100% 5/5 [00:05<00:00,  1.17s/it]\n",
            "                   all        300        921      0.448      0.338       0.32      0.198\n",
            "\n",
            "      Epoch    GPU_mem   box_loss   obj_loss   cls_loss  Instances       Size\n",
            "      31/99      10.8G     0.0351    0.01605   0.005937         88        640: 100% 38/38 [00:43<00:00,  1.15s/it]\n",
            "                 Class     Images  Instances          P          R      mAP50   mAP50-95: 100% 5/5 [00:06<00:00,  1.21s/it]\n",
            "                   all        300        921      0.419      0.392      0.319      0.204\n",
            "\n",
            "      Epoch    GPU_mem   box_loss   obj_loss   cls_loss  Instances       Size\n",
            "      32/99      10.8G    0.03625    0.01616   0.005246         48        640: 100% 38/38 [00:44<00:00,  1.16s/it]\n",
            "                 Class     Images  Instances          P          R      mAP50   mAP50-95: 100% 5/5 [00:05<00:00,  1.20s/it]\n",
            "                   all        300        921      0.397      0.334      0.295      0.185\n",
            "\n",
            "      Epoch    GPU_mem   box_loss   obj_loss   cls_loss  Instances       Size\n",
            "      33/99      10.8G    0.03527    0.01578   0.005435         93        640: 100% 38/38 [00:46<00:00,  1.21s/it]\n",
            "                 Class     Images  Instances          P          R      mAP50   mAP50-95: 100% 5/5 [00:06<00:00,  1.27s/it]\n",
            "                   all        300        921      0.403       0.35        0.3      0.194\n",
            "\n",
            "      Epoch    GPU_mem   box_loss   obj_loss   cls_loss  Instances       Size\n",
            "      34/99      10.8G    0.03441    0.01571   0.004914         81        640: 100% 38/38 [00:44<00:00,  1.17s/it]\n",
            "                 Class     Images  Instances          P          R      mAP50   mAP50-95: 100% 5/5 [00:06<00:00,  1.21s/it]\n",
            "                   all        300        921      0.441      0.335      0.309      0.199\n",
            "\n",
            "      Epoch    GPU_mem   box_loss   obj_loss   cls_loss  Instances       Size\n",
            "      35/99      10.8G    0.03465    0.01545   0.004535         74        640: 100% 38/38 [00:44<00:00,  1.16s/it]\n",
            "                 Class     Images  Instances          P          R      mAP50   mAP50-95: 100% 5/5 [00:06<00:00,  1.20s/it]\n",
            "                   all        300        921       0.47      0.303      0.292      0.188\n",
            "\n",
            "      Epoch    GPU_mem   box_loss   obj_loss   cls_loss  Instances       Size\n",
            "      36/99      10.8G    0.03466    0.01601   0.004333         76        640: 100% 38/38 [00:43<00:00,  1.14s/it]\n",
            "                 Class     Images  Instances          P          R      mAP50   mAP50-95: 100% 5/5 [00:06<00:00,  1.23s/it]\n",
            "                   all        300        921      0.398      0.325      0.285      0.184\n",
            "\n",
            "      Epoch    GPU_mem   box_loss   obj_loss   cls_loss  Instances       Size\n",
            "      37/99      10.8G    0.03337    0.01578   0.004397         93        640: 100% 38/38 [00:46<00:00,  1.22s/it]\n",
            "                 Class     Images  Instances          P          R      mAP50   mAP50-95: 100% 5/5 [00:06<00:00,  1.28s/it]\n",
            "                   all        300        921      0.474      0.357      0.337      0.215\n",
            "\n",
            "      Epoch    GPU_mem   box_loss   obj_loss   cls_loss  Instances       Size\n",
            "      38/99      10.8G    0.03348    0.01571    0.00402         93        640: 100% 38/38 [00:43<00:00,  1.16s/it]\n",
            "                 Class     Images  Instances          P          R      mAP50   mAP50-95: 100% 5/5 [00:05<00:00,  1.18s/it]\n",
            "                   all        300        921      0.456       0.36      0.343       0.22\n",
            "\n",
            "      Epoch    GPU_mem   box_loss   obj_loss   cls_loss  Instances       Size\n",
            "      39/99      10.8G    0.03247    0.01447   0.004443         80        640: 100% 38/38 [00:42<00:00,  1.13s/it]\n",
            "                 Class     Images  Instances          P          R      mAP50   mAP50-95: 100% 5/5 [00:06<00:00,  1.30s/it]\n",
            "                   all        300        921      0.407      0.375       0.33      0.202\n",
            "\n",
            "      Epoch    GPU_mem   box_loss   obj_loss   cls_loss  Instances       Size\n",
            "      40/99      10.8G    0.03273    0.01443   0.004132         50        640: 100% 38/38 [00:43<00:00,  1.14s/it]\n",
            "                 Class     Images  Instances          P          R      mAP50   mAP50-95: 100% 5/5 [00:06<00:00,  1.24s/it]\n",
            "                   all        300        921      0.428      0.316      0.279      0.181\n",
            "\n",
            "      Epoch    GPU_mem   box_loss   obj_loss   cls_loss  Instances       Size\n",
            "      41/99      10.8G    0.03253    0.01428   0.003813         75        640: 100% 38/38 [00:46<00:00,  1.23s/it]\n",
            "                 Class     Images  Instances          P          R      mAP50   mAP50-95: 100% 5/5 [00:05<00:00,  1.17s/it]\n",
            "                   all        300        921      0.499      0.349      0.333      0.216\n",
            "\n",
            "      Epoch    GPU_mem   box_loss   obj_loss   cls_loss  Instances       Size\n",
            "      42/99      10.8G    0.03273    0.01499   0.003977        102        640: 100% 38/38 [00:43<00:00,  1.15s/it]\n",
            "                 Class     Images  Instances          P          R      mAP50   mAP50-95: 100% 5/5 [00:06<00:00,  1.31s/it]\n",
            "                   all        300        921       0.53      0.364      0.343      0.221\n",
            "\n",
            "      Epoch    GPU_mem   box_loss   obj_loss   cls_loss  Instances       Size\n",
            "      43/99      10.8G    0.03245    0.01451   0.003989         86        640: 100% 38/38 [00:44<00:00,  1.17s/it]\n",
            "                 Class     Images  Instances          P          R      mAP50   mAP50-95: 100% 5/5 [00:06<00:00,  1.25s/it]\n",
            "                   all        300        921      0.513       0.34      0.329      0.214\n",
            "\n",
            "      Epoch    GPU_mem   box_loss   obj_loss   cls_loss  Instances       Size\n",
            "      44/99      10.8G    0.03133    0.01395   0.003444         81        640: 100% 38/38 [00:44<00:00,  1.16s/it]\n",
            "                 Class     Images  Instances          P          R      mAP50   mAP50-95: 100% 5/5 [00:05<00:00,  1.20s/it]\n",
            "                   all        300        921       0.48      0.335      0.324      0.211\n",
            "\n",
            "      Epoch    GPU_mem   box_loss   obj_loss   cls_loss  Instances       Size\n",
            "      45/99      10.8G    0.03044    0.01332   0.003255         41        640: 100% 38/38 [00:43<00:00,  1.14s/it]\n",
            "                 Class     Images  Instances          P          R      mAP50   mAP50-95: 100% 5/5 [00:06<00:00,  1.22s/it]\n",
            "                   all        300        921      0.527       0.33      0.342      0.222\n",
            "\n",
            "      Epoch    GPU_mem   box_loss   obj_loss   cls_loss  Instances       Size\n",
            "      46/99      10.8G    0.03077    0.01385   0.003199         98        640: 100% 38/38 [00:47<00:00,  1.25s/it]\n",
            "                 Class     Images  Instances          P          R      mAP50   mAP50-95: 100% 5/5 [00:05<00:00,  1.14s/it]\n",
            "                   all        300        921      0.533      0.336      0.343      0.219\n",
            "\n",
            "      Epoch    GPU_mem   box_loss   obj_loss   cls_loss  Instances       Size\n",
            "      47/99      10.8G    0.03129    0.01406   0.003593         85        640: 100% 38/38 [00:44<00:00,  1.16s/it]\n",
            "                 Class     Images  Instances          P          R      mAP50   mAP50-95: 100% 5/5 [00:05<00:00,  1.16s/it]\n",
            "                   all        300        921      0.418      0.332      0.302      0.195\n",
            "\n",
            "      Epoch    GPU_mem   box_loss   obj_loss   cls_loss  Instances       Size\n",
            "      48/99      10.8G    0.03108    0.01389   0.003216         96        640: 100% 38/38 [00:43<00:00,  1.15s/it]\n",
            "                 Class     Images  Instances          P          R      mAP50   mAP50-95: 100% 5/5 [00:05<00:00,  1.20s/it]\n",
            "                   all        300        921      0.535       0.33      0.343      0.226\n",
            "\n",
            "      Epoch    GPU_mem   box_loss   obj_loss   cls_loss  Instances       Size\n",
            "      49/99      10.8G    0.03025    0.01365   0.002835         95        640: 100% 38/38 [00:43<00:00,  1.15s/it]\n",
            "                 Class     Images  Instances          P          R      mAP50   mAP50-95: 100% 5/5 [00:06<00:00,  1.25s/it]\n",
            "                   all        300        921      0.509      0.324      0.332      0.221\n",
            "\n",
            "      Epoch    GPU_mem   box_loss   obj_loss   cls_loss  Instances       Size\n",
            "      50/99      10.8G    0.03064    0.01374   0.003226         79        640: 100% 38/38 [00:46<00:00,  1.22s/it]\n",
            "                 Class     Images  Instances          P          R      mAP50   mAP50-95: 100% 5/5 [00:06<00:00,  1.31s/it]\n",
            "                   all        300        921        0.5      0.356      0.355      0.234\n",
            "\n",
            "      Epoch    GPU_mem   box_loss   obj_loss   cls_loss  Instances       Size\n",
            "      51/99      10.8G    0.03016    0.01345   0.002939        110        640: 100% 38/38 [00:44<00:00,  1.17s/it]\n",
            "                 Class     Images  Instances          P          R      mAP50   mAP50-95: 100% 5/5 [00:05<00:00,  1.17s/it]\n",
            "                   all        300        921      0.502      0.337      0.329      0.213\n",
            "\n",
            "      Epoch    GPU_mem   box_loss   obj_loss   cls_loss  Instances       Size\n",
            "      52/99      10.8G    0.02976    0.01338   0.003041         54        640: 100% 38/38 [00:43<00:00,  1.16s/it]\n",
            "                 Class     Images  Instances          P          R      mAP50   mAP50-95: 100% 5/5 [00:06<00:00,  1.22s/it]\n",
            "                   all        300        921      0.496      0.334      0.316      0.202\n",
            "\n",
            "      Epoch    GPU_mem   box_loss   obj_loss   cls_loss  Instances       Size\n",
            "      53/99      10.8G    0.03007    0.01295   0.003001         77        640: 100% 38/38 [00:44<00:00,  1.16s/it]\n",
            "                 Class     Images  Instances          P          R      mAP50   mAP50-95: 100% 5/5 [00:05<00:00,  1.19s/it]\n",
            "                   all        300        921      0.454      0.339      0.322      0.216\n",
            "\n",
            "      Epoch    GPU_mem   box_loss   obj_loss   cls_loss  Instances       Size\n",
            "      54/99      10.8G    0.02945    0.01322   0.002902         85        640: 100% 38/38 [00:46<00:00,  1.23s/it]\n",
            "                 Class     Images  Instances          P          R      mAP50   mAP50-95: 100% 5/5 [00:06<00:00,  1.23s/it]\n",
            "                   all        300        921      0.575      0.338      0.342      0.227\n",
            "\n",
            "      Epoch    GPU_mem   box_loss   obj_loss   cls_loss  Instances       Size\n",
            "      55/99      10.8G    0.02882    0.01274   0.002748         59        640: 100% 38/38 [00:43<00:00,  1.14s/it]\n",
            "                 Class     Images  Instances          P          R      mAP50   mAP50-95: 100% 5/5 [00:05<00:00,  1.16s/it]\n",
            "                   all        300        921      0.494      0.382      0.355      0.229\n",
            "\n",
            "      Epoch    GPU_mem   box_loss   obj_loss   cls_loss  Instances       Size\n",
            "      56/99      10.8G    0.02866    0.01282   0.002694         54        640: 100% 38/38 [00:42<00:00,  1.13s/it]\n",
            "                 Class     Images  Instances          P          R      mAP50   mAP50-95: 100% 5/5 [00:06<00:00,  1.25s/it]\n",
            "                   all        300        921      0.495      0.368       0.35      0.231\n",
            "\n",
            "      Epoch    GPU_mem   box_loss   obj_loss   cls_loss  Instances       Size\n",
            "      57/99      10.8G    0.02851    0.01273   0.002577         67        640: 100% 38/38 [00:43<00:00,  1.15s/it]\n",
            "                 Class     Images  Instances          P          R      mAP50   mAP50-95: 100% 5/5 [00:06<00:00,  1.22s/it]\n",
            "                   all        300        921      0.443      0.368      0.327      0.206\n",
            "\n",
            "      Epoch    GPU_mem   box_loss   obj_loss   cls_loss  Instances       Size\n",
            "      58/99      10.8G    0.02875    0.01216   0.002501         79        640: 100% 38/38 [00:43<00:00,  1.15s/it]\n",
            "                 Class     Images  Instances          P          R      mAP50   mAP50-95: 100% 5/5 [00:06<00:00,  1.27s/it]\n",
            "                   all        300        921      0.584      0.328      0.356      0.237\n",
            "\n",
            "      Epoch    GPU_mem   box_loss   obj_loss   cls_loss  Instances       Size\n",
            "      59/99      10.8G    0.02888    0.01244   0.002264         49        640: 100% 38/38 [00:47<00:00,  1.24s/it]\n",
            "                 Class     Images  Instances          P          R      mAP50   mAP50-95: 100% 5/5 [00:06<00:00,  1.24s/it]\n",
            "                   all        300        921      0.535      0.316      0.311      0.207\n",
            "\n",
            "      Epoch    GPU_mem   box_loss   obj_loss   cls_loss  Instances       Size\n",
            "      60/99      10.8G    0.02809    0.01241   0.002654         52        640: 100% 38/38 [00:43<00:00,  1.15s/it]\n",
            "                 Class     Images  Instances          P          R      mAP50   mAP50-95: 100% 5/5 [00:06<00:00,  1.30s/it]\n",
            "                   all        300        921      0.491      0.378      0.343      0.234\n",
            "\n",
            "      Epoch    GPU_mem   box_loss   obj_loss   cls_loss  Instances       Size\n",
            "      61/99      10.8G    0.02794    0.01158   0.002351         53        640: 100% 38/38 [00:43<00:00,  1.14s/it]\n",
            "                 Class     Images  Instances          P          R      mAP50   mAP50-95: 100% 5/5 [00:06<00:00,  1.27s/it]\n",
            "                   all        300        921      0.528      0.353      0.358      0.241\n",
            "\n",
            "      Epoch    GPU_mem   box_loss   obj_loss   cls_loss  Instances       Size\n",
            "      62/99      10.8G    0.02831    0.01237   0.002309         65        640: 100% 38/38 [00:43<00:00,  1.15s/it]\n",
            "                 Class     Images  Instances          P          R      mAP50   mAP50-95: 100% 5/5 [00:05<00:00,  1.18s/it]\n",
            "                   all        300        921      0.513      0.344      0.338      0.234\n",
            "\n",
            "      Epoch    GPU_mem   box_loss   obj_loss   cls_loss  Instances       Size\n",
            "      63/99      10.8G    0.02761    0.01189   0.002214         74        640: 100% 38/38 [00:47<00:00,  1.24s/it]\n",
            "                 Class     Images  Instances          P          R      mAP50   mAP50-95: 100% 5/5 [00:06<00:00,  1.20s/it]\n",
            "                   all        300        921      0.477      0.386      0.363      0.242\n",
            "\n",
            "      Epoch    GPU_mem   box_loss   obj_loss   cls_loss  Instances       Size\n",
            "      64/99      10.8G    0.02698    0.01198   0.002164         91        640: 100% 38/38 [00:43<00:00,  1.15s/it]\n",
            "                 Class     Images  Instances          P          R      mAP50   mAP50-95: 100% 5/5 [00:06<00:00,  1.24s/it]\n",
            "                   all        300        921      0.579       0.36      0.367      0.245\n",
            "\n",
            "      Epoch    GPU_mem   box_loss   obj_loss   cls_loss  Instances       Size\n",
            "      65/99      10.8G    0.02663     0.0119   0.001956         70        640: 100% 38/38 [00:44<00:00,  1.16s/it]\n",
            "                 Class     Images  Instances          P          R      mAP50   mAP50-95: 100% 5/5 [00:05<00:00,  1.13s/it]\n",
            "                   all        300        921      0.508      0.351       0.34      0.228\n",
            "\n",
            "      Epoch    GPU_mem   box_loss   obj_loss   cls_loss  Instances       Size\n",
            "      66/99      10.8G     0.0262    0.01134   0.001959         49        640: 100% 38/38 [00:43<00:00,  1.15s/it]\n",
            "                 Class     Images  Instances          P          R      mAP50   mAP50-95: 100% 5/5 [00:06<00:00,  1.22s/it]\n",
            "                   all        300        921      0.551       0.34       0.34      0.229\n",
            "\n",
            "      Epoch    GPU_mem   box_loss   obj_loss   cls_loss  Instances       Size\n",
            "      67/99      10.8G    0.02684    0.01203   0.002149         74        640: 100% 38/38 [00:44<00:00,  1.16s/it]\n",
            "                 Class     Images  Instances          P          R      mAP50   mAP50-95: 100% 5/5 [00:07<00:00,  1.40s/it]\n",
            "                   all        300        921      0.485      0.393       0.36      0.244\n",
            "\n",
            "      Epoch    GPU_mem   box_loss   obj_loss   cls_loss  Instances       Size\n",
            "      68/99      10.8G    0.02667    0.01113    0.00191         46        640: 100% 38/38 [00:44<00:00,  1.18s/it]\n",
            "                 Class     Images  Instances          P          R      mAP50   mAP50-95: 100% 5/5 [00:06<00:00,  1.25s/it]\n",
            "                   all        300        921      0.554      0.342      0.371       0.25\n",
            "\n",
            "      Epoch    GPU_mem   box_loss   obj_loss   cls_loss  Instances       Size\n",
            "      69/99      10.8G    0.02647    0.01145   0.001829        103        640: 100% 38/38 [00:44<00:00,  1.17s/it]\n",
            "                 Class     Images  Instances          P          R      mAP50   mAP50-95: 100% 5/5 [00:05<00:00,  1.17s/it]\n",
            "                   all        300        921      0.505      0.378      0.346      0.234\n",
            "\n",
            "      Epoch    GPU_mem   box_loss   obj_loss   cls_loss  Instances       Size\n",
            "      70/99      10.8G    0.02573    0.01075   0.001612         61        640: 100% 38/38 [00:43<00:00,  1.13s/it]\n",
            "                 Class     Images  Instances          P          R      mAP50   mAP50-95: 100% 5/5 [00:06<00:00,  1.26s/it]\n",
            "                   all        300        921      0.537      0.386      0.362      0.243\n",
            "\n",
            "      Epoch    GPU_mem   box_loss   obj_loss   cls_loss  Instances       Size\n",
            "      71/99      10.8G    0.02555    0.01129   0.001575         57        640: 100% 38/38 [00:44<00:00,  1.16s/it]\n",
            "                 Class     Images  Instances          P          R      mAP50   mAP50-95: 100% 5/5 [00:05<00:00,  1.19s/it]\n",
            "                   all        300        921      0.509      0.386      0.364      0.252\n",
            "\n",
            "      Epoch    GPU_mem   box_loss   obj_loss   cls_loss  Instances       Size\n",
            "      72/99      10.8G    0.02569    0.01095   0.001902         68        640: 100% 38/38 [00:46<00:00,  1.22s/it]\n",
            "                 Class     Images  Instances          P          R      mAP50   mAP50-95: 100% 5/5 [00:06<00:00,  1.31s/it]\n",
            "                   all        300        921      0.511      0.368      0.356      0.239\n",
            "\n",
            "      Epoch    GPU_mem   box_loss   obj_loss   cls_loss  Instances       Size\n",
            "      73/99      10.8G    0.02555    0.01148   0.001873         95        640: 100% 38/38 [00:44<00:00,  1.16s/it]\n",
            "                 Class     Images  Instances          P          R      mAP50   mAP50-95: 100% 5/5 [00:06<00:00,  1.27s/it]\n",
            "                   all        300        921      0.502      0.374      0.354      0.244\n",
            "\n",
            "      Epoch    GPU_mem   box_loss   obj_loss   cls_loss  Instances       Size\n",
            "      74/99      10.8G    0.02509    0.01075   0.001592         57        640: 100% 38/38 [00:44<00:00,  1.16s/it]\n",
            "                 Class     Images  Instances          P          R      mAP50   mAP50-95: 100% 5/5 [00:06<00:00,  1.20s/it]\n",
            "                   all        300        921      0.482       0.35      0.337      0.232\n",
            "\n",
            "      Epoch    GPU_mem   box_loss   obj_loss   cls_loss  Instances       Size\n",
            "      75/99      10.8G    0.02479    0.01091   0.001635         68        640: 100% 38/38 [00:44<00:00,  1.16s/it]\n",
            "                 Class     Images  Instances          P          R      mAP50   mAP50-95: 100% 5/5 [00:05<00:00,  1.14s/it]\n",
            "                   all        300        921       0.56      0.336      0.364      0.253\n",
            "\n",
            "      Epoch    GPU_mem   box_loss   obj_loss   cls_loss  Instances       Size\n",
            "      76/99      10.8G    0.02528     0.0108   0.001838         84        640: 100% 38/38 [00:44<00:00,  1.16s/it]\n",
            "                 Class     Images  Instances          P          R      mAP50   mAP50-95: 100% 5/5 [00:06<00:00,  1.40s/it]\n",
            "                   all        300        921      0.503      0.363      0.347      0.236\n",
            "\n",
            "      Epoch    GPU_mem   box_loss   obj_loss   cls_loss  Instances       Size\n",
            "      77/99      10.8G    0.02494     0.0109   0.001765         63        640: 100% 38/38 [00:45<00:00,  1.19s/it]\n",
            "                 Class     Images  Instances          P          R      mAP50   mAP50-95: 100% 5/5 [00:05<00:00,  1.19s/it]\n",
            "                   all        300        921      0.592       0.33      0.358      0.251\n",
            "\n",
            "      Epoch    GPU_mem   box_loss   obj_loss   cls_loss  Instances       Size\n",
            "      78/99      10.8G    0.02394    0.01054   0.001533         95        640: 100% 38/38 [00:43<00:00,  1.14s/it]\n",
            "                 Class     Images  Instances          P          R      mAP50   mAP50-95: 100% 5/5 [00:06<00:00,  1.22s/it]\n",
            "                   all        300        921       0.52      0.351      0.347      0.246\n",
            "\n",
            "      Epoch    GPU_mem   box_loss   obj_loss   cls_loss  Instances       Size\n",
            "      79/99      10.8G    0.02336    0.01021    0.00153         47        640: 100% 38/38 [00:43<00:00,  1.14s/it]\n",
            "                 Class     Images  Instances          P          R      mAP50   mAP50-95: 100% 5/5 [00:06<00:00,  1.27s/it]\n",
            "                   all        300        921      0.547      0.348      0.355      0.247\n",
            "\n",
            "      Epoch    GPU_mem   box_loss   obj_loss   cls_loss  Instances       Size\n",
            "      80/99      10.8G    0.02393    0.01028    0.00159         72        640: 100% 38/38 [00:43<00:00,  1.14s/it]\n",
            "                 Class     Images  Instances          P          R      mAP50   mAP50-95: 100% 5/5 [00:06<00:00,  1.27s/it]\n",
            "                   all        300        921      0.606      0.325       0.35      0.244\n",
            "\n",
            "      Epoch    GPU_mem   box_loss   obj_loss   cls_loss  Instances       Size\n",
            "      81/99      10.8G    0.02349   0.009798   0.001335         73        640: 100% 38/38 [00:47<00:00,  1.24s/it]\n",
            "                 Class     Images  Instances          P          R      mAP50   mAP50-95: 100% 5/5 [00:05<00:00,  1.17s/it]\n",
            "                   all        300        921      0.578      0.347      0.363      0.253\n",
            "\n",
            "      Epoch    GPU_mem   box_loss   obj_loss   cls_loss  Instances       Size\n",
            "      82/99      10.8G     0.0244    0.01057   0.001704         68        640: 100% 38/38 [00:43<00:00,  1.16s/it]\n",
            "                 Class     Images  Instances          P          R      mAP50   mAP50-95: 100% 5/5 [00:06<00:00,  1.27s/it]\n",
            "                   all        300        921      0.526       0.35      0.353      0.245\n",
            "\n",
            "      Epoch    GPU_mem   box_loss   obj_loss   cls_loss  Instances       Size\n",
            "      83/99      10.8G     0.0229    0.01019   0.001423         60        640: 100% 38/38 [00:43<00:00,  1.15s/it]\n",
            "                 Class     Images  Instances          P          R      mAP50   mAP50-95: 100% 5/5 [00:05<00:00,  1.20s/it]\n",
            "                   all        300        921      0.528      0.358      0.367      0.258\n",
            "\n",
            "      Epoch    GPU_mem   box_loss   obj_loss   cls_loss  Instances       Size\n",
            "      84/99      10.8G    0.02311   0.009925    0.00136         78        640: 100% 38/38 [00:43<00:00,  1.13s/it]\n",
            "                 Class     Images  Instances          P          R      mAP50   mAP50-95: 100% 5/5 [00:06<00:00,  1.26s/it]\n",
            "                   all        300        921      0.474      0.377      0.345       0.24\n",
            "\n",
            "      Epoch    GPU_mem   box_loss   obj_loss   cls_loss  Instances       Size\n",
            "      85/99      10.8G    0.02358    0.01029   0.001328         91        640: 100% 38/38 [00:43<00:00,  1.14s/it]\n",
            "                 Class     Images  Instances          P          R      mAP50   mAP50-95: 100% 5/5 [00:06<00:00,  1.28s/it]\n",
            "                   all        300        921      0.482      0.377      0.357      0.246\n",
            "\n",
            "      Epoch    GPU_mem   box_loss   obj_loss   cls_loss  Instances       Size\n",
            "      86/99      10.8G    0.02273    0.01019   0.001483        100        640: 100% 38/38 [00:47<00:00,  1.24s/it]\n",
            "                 Class     Images  Instances          P          R      mAP50   mAP50-95: 100% 5/5 [00:06<00:00,  1.23s/it]\n",
            "                   all        300        921      0.519       0.36      0.362      0.251\n",
            "\n",
            "      Epoch    GPU_mem   box_loss   obj_loss   cls_loss  Instances       Size\n",
            "      87/99      10.8G    0.02247    0.01005   0.001342         79        640: 100% 38/38 [00:43<00:00,  1.15s/it]\n",
            "                 Class     Images  Instances          P          R      mAP50   mAP50-95: 100% 5/5 [00:05<00:00,  1.18s/it]\n",
            "                   all        300        921      0.469      0.403      0.371      0.262\n",
            "\n",
            "      Epoch    GPU_mem   box_loss   obj_loss   cls_loss  Instances       Size\n",
            "      88/99      10.8G    0.02303    0.01021   0.001078         66        640: 100% 38/38 [00:44<00:00,  1.16s/it]\n",
            "                 Class     Images  Instances          P          R      mAP50   mAP50-95: 100% 5/5 [00:05<00:00,  1.16s/it]\n",
            "                   all        300        921      0.502      0.385      0.364      0.258\n",
            "\n",
            "      Epoch    GPU_mem   box_loss   obj_loss   cls_loss  Instances       Size\n",
            "      89/99      10.8G    0.02261   0.009794   0.001365         56        640: 100% 38/38 [00:43<00:00,  1.15s/it]\n",
            "                 Class     Images  Instances          P          R      mAP50   mAP50-95:   0% 0/5 [00:00<?, ?it/s]\n",
            "Traceback (most recent call last):\n",
            "  File \"train.py\", line 634, in <module>\n",
            "    main(opt)\n",
            "  File \"train.py\", line 528, in main\n",
            "    train(opt.hyp, opt, device, callbacks)\n",
            "  File \"train.py\", line 351, in train\n",
            "    results, maps, _ = validate.run(data_dict,\n",
            "  File \"/usr/local/lib/python3.8/dist-packages/torch/autograd/grad_mode.py\", line 27, in decorate_context\n",
            "    return func(*args, **kwargs)\n",
            "  File \"/content/yolov5/val.py\", line 213, in run\n",
            "    loss += compute_loss(train_out, targets)[1]  # box, obj, cls\n",
            "  File \"/content/yolov5/utils/loss.py\", line 141, in __call__\n",
            "    iou = bbox_iou(pbox, tbox[i], CIoU=True).squeeze()  # iou(prediction, target)\n",
            "  File \"/content/yolov5/utils/metrics.py\", line 254, in bbox_iou\n",
            "    with torch.no_grad():\n",
            "  File \"/usr/local/lib/python3.8/dist-packages/torch/autograd/grad_mode.py\", line 128, in __init__\n",
            "    super().__init__()\n",
            "KeyboardInterrupt\n",
            "^C\n"
          ]
        }
      ],
      "source": [
        "!python train.py --img 640 --batch 32 --epochs 100 --data dataset.yaml --cfg models/yolov5m.yaml --weights yolov5m.pt"
      ]
    },
    {
      "cell_type": "markdown",
      "source": [
        "### 훈련된 모델로 이미지 내 객체 인식을 수행 후 결과 파일 생성"
      ],
      "metadata": {
        "id": "swF0XrIQ-AmX"
      },
      "id": "swF0XrIQ-AmX"
    },
    {
      "cell_type": "code",
      "source": [
        "!python detect.py --source /content/yolov5/taco/val/images --weights /content/yolov5/runs/train/exp/weights/best.pt"
      ],
      "metadata": {
        "id": "FMxJpbfiswxt",
        "colab": {
          "base_uri": "https://localhost:8080/"
        },
        "outputId": "defc3162-a2f4-4e81-b74a-fccba7e172cd"
      },
      "id": "FMxJpbfiswxt",
      "execution_count": null,
      "outputs": [
        {
          "output_type": "stream",
          "name": "stdout",
          "text": [
            "\u001b[34m\u001b[1mdetect: \u001b[0mweights=['/content/yolov5/runs/train/exp/weights/best.pt'], source=/content/yolov5/taco/val/images, data=data/coco128.yaml, imgsz=[640, 640], conf_thres=0.25, iou_thres=0.45, max_det=1000, device=, view_img=False, save_txt=False, save_conf=False, save_crop=False, nosave=False, classes=None, agnostic_nms=False, augment=False, visualize=False, update=False, project=runs/detect, name=exp, exist_ok=False, line_thickness=3, hide_labels=False, hide_conf=False, half=False, dnn=False, vid_stride=1\n",
            "YOLOv5 🚀 v7.0-53-g65071da Python-3.8.16 torch-1.13.0+cu116 CUDA:0 (Tesla T4, 15110MiB)\n",
            "\n",
            "Fusing layers... \n",
            "YOLOv5m summary: 212 layers, 20856975 parameters, 0 gradients, 47.9 GFLOPs\n",
            "image 1/300 /content/yolov5/taco/val/images/batch_10_000002.jpg: 640x640 10 Others, 28.6ms\n",
            "image 2/300 /content/yolov5/taco/val/images/batch_10_000003.jpg: 640x640 8 Others, 28.6ms\n",
            "image 3/300 /content/yolov5/taco/val/images/batch_10_000012.jpg: 640x640 3 Others, 25.6ms\n",
            "image 4/300 /content/yolov5/taco/val/images/batch_10_000017.jpg: 640x640 (no detections), 24.0ms\n",
            "image 5/300 /content/yolov5/taco/val/images/batch_10_000020.jpg: 640x640 1 Other, 24.0ms\n",
            "image 6/300 /content/yolov5/taco/val/images/batch_10_000021.jpg: 640x640 1 Other, 24.0ms\n",
            "image 7/300 /content/yolov5/taco/val/images/batch_10_000022.jpg: 640x640 3 Others, 24.0ms\n",
            "image 8/300 /content/yolov5/taco/val/images/batch_10_000025.jpg: 640x640 2 Others, 19.6ms\n",
            "image 9/300 /content/yolov5/taco/val/images/batch_10_000026.jpg: 640x640 2 Others, 1 Plastic bag & wrapper, 17.4ms\n",
            "image 10/300 /content/yolov5/taco/val/images/batch_10_000033.jpg: 640x640 1 Other, 17.4ms\n",
            "image 11/300 /content/yolov5/taco/val/images/batch_10_000044.jpg: 640x640 1 Other, 17.3ms\n",
            "image 12/300 /content/yolov5/taco/val/images/batch_10_000057.jpg: 640x640 1 Other, 17.1ms\n",
            "image 13/300 /content/yolov5/taco/val/images/batch_10_000069.jpg: 640x640 (no detections), 17.1ms\n",
            "image 14/300 /content/yolov5/taco/val/images/batch_10_000074.jpg: 640x640 1 Other, 16.7ms\n",
            "image 15/300 /content/yolov5/taco/val/images/batch_10_000081.jpg: 640x640 4 Others, 14.1ms\n",
            "image 16/300 /content/yolov5/taco/val/images/batch_10_000084.jpg: 640x640 1 Other, 1 Plastic bag & wrapper, 14.7ms\n",
            "image 17/300 /content/yolov5/taco/val/images/batch_10_000094.jpg: 640x640 4 Others, 13.9ms\n",
            "image 18/300 /content/yolov5/taco/val/images/batch_11_000007.jpg: 640x640 1 Other, 14.7ms\n",
            "image 19/300 /content/yolov5/taco/val/images/batch_11_000009.jpg: 640x640 2 Others, 13.9ms\n",
            "image 20/300 /content/yolov5/taco/val/images/batch_11_000019.jpg: 640x640 1 Other, 14.3ms\n",
            "image 21/300 /content/yolov5/taco/val/images/batch_11_000022.jpg: 640x640 (no detections), 13.8ms\n",
            "image 22/300 /content/yolov5/taco/val/images/batch_11_000025.jpg: 640x640 1 Other, 14.8ms\n",
            "image 23/300 /content/yolov5/taco/val/images/batch_11_000030.jpg: 640x640 1 Other, 14.6ms\n",
            "image 24/300 /content/yolov5/taco/val/images/batch_11_000031.jpg: 640x640 1 Other, 14.3ms\n",
            "image 25/300 /content/yolov5/taco/val/images/batch_11_000039.jpg: 640x640 5 Others, 2 Plastic bag & wrappers, 13.8ms\n",
            "image 26/300 /content/yolov5/taco/val/images/batch_11_000040.jpg: 640x640 5 Others, 2 Plastic bag & wrappers, 14.1ms\n",
            "image 27/300 /content/yolov5/taco/val/images/batch_11_000042.jpg: 640x640 1 Other, 13.4ms\n",
            "image 28/300 /content/yolov5/taco/val/images/batch_11_000046.jpg: 640x640 2 Others, 1 Plastic bag & wrapper, 14.0ms\n",
            "image 29/300 /content/yolov5/taco/val/images/batch_11_000054.jpg: 640x640 2 Others, 14.1ms\n",
            "image 30/300 /content/yolov5/taco/val/images/batch_11_000056.jpg: 640x640 3 Others, 13.7ms\n",
            "image 31/300 /content/yolov5/taco/val/images/batch_11_000059.jpg: 640x640 2 Others, 13.9ms\n",
            "image 32/300 /content/yolov5/taco/val/images/batch_11_000065.jpg: 640x640 1 Other, 1 Plastic bag & wrapper, 13.5ms\n",
            "image 33/300 /content/yolov5/taco/val/images/batch_11_000077.jpg: 640x640 2 Others, 14.0ms\n",
            "image 34/300 /content/yolov5/taco/val/images/batch_11_000081.jpg: 640x640 1 Other, 14.0ms\n",
            "image 35/300 /content/yolov5/taco/val/images/batch_11_000082.jpg: 640x640 1 Other, 3 Plastic bag & wrappers, 14.0ms\n",
            "image 36/300 /content/yolov5/taco/val/images/batch_11_000091.jpg: 640x640 1 Other, 13.9ms\n",
            "image 37/300 /content/yolov5/taco/val/images/batch_11_000093.jpg: 640x640 1 Other, 13.5ms\n",
            "image 38/300 /content/yolov5/taco/val/images/batch_11_000099.jpg: 640x640 2 Others, 14.3ms\n",
            "image 39/300 /content/yolov5/taco/val/images/batch_12_000012.jpg: 640x640 2 Others, 13.9ms\n",
            "image 40/300 /content/yolov5/taco/val/images/batch_12_000014.jpg: 640x640 1 Other, 15.4ms\n",
            "image 41/300 /content/yolov5/taco/val/images/batch_12_000016.jpg: 640x640 1 Other, 14.6ms\n",
            "image 42/300 /content/yolov5/taco/val/images/batch_12_000019.jpg: 640x640 2 Others, 13.8ms\n",
            "image 43/300 /content/yolov5/taco/val/images/batch_12_000033.jpg: 640x640 2 Others, 4 Plastic bag & wrappers, 14.7ms\n",
            "image 44/300 /content/yolov5/taco/val/images/batch_12_000043.jpg: 640x640 4 Others, 1 Plastic bag & wrapper, 13.8ms\n",
            "image 45/300 /content/yolov5/taco/val/images/batch_12_000045.jpg: 640x640 1 Other, 14.3ms\n",
            "image 46/300 /content/yolov5/taco/val/images/batch_12_000047.jpg: 640x640 2 Others, 14.0ms\n",
            "image 47/300 /content/yolov5/taco/val/images/batch_12_000053.jpg: 640x640 1 Other, 13.8ms\n",
            "image 48/300 /content/yolov5/taco/val/images/batch_12_000055.jpg: 640x640 2 Others, 1 Plastic bag & wrapper, 14.0ms\n",
            "image 49/300 /content/yolov5/taco/val/images/batch_12_000057.jpg: 640x640 5 Others, 1 Plastic bag & wrapper, 13.9ms\n",
            "image 50/300 /content/yolov5/taco/val/images/batch_12_000061.jpg: 640x640 15 Others, 5 Plastic bag & wrappers, 14.1ms\n",
            "image 51/300 /content/yolov5/taco/val/images/batch_12_000067.jpg: 640x640 2 Others, 2 Plastic bag & wrappers, 14.1ms\n",
            "image 52/300 /content/yolov5/taco/val/images/batch_12_000069.jpg: 640x640 2 Others, 1 Plastic bag & wrapper, 13.3ms\n",
            "image 53/300 /content/yolov5/taco/val/images/batch_12_000081.jpg: 640x640 1 Plastic bag & wrapper, 14.3ms\n",
            "image 54/300 /content/yolov5/taco/val/images/batch_12_000082.jpg: 640x640 1 Other, 13.7ms\n",
            "image 55/300 /content/yolov5/taco/val/images/batch_12_000089.jpg: 640x640 4 Others, 13.9ms\n",
            "image 56/300 /content/yolov5/taco/val/images/batch_13_000002.jpg: 640x640 2 Others, 13.9ms\n",
            "image 57/300 /content/yolov5/taco/val/images/batch_13_000008.jpg: 640x640 1 Plastic bag & wrapper, 14.0ms\n",
            "image 58/300 /content/yolov5/taco/val/images/batch_13_000020.jpg: 640x640 (no detections), 14.2ms\n",
            "image 59/300 /content/yolov5/taco/val/images/batch_13_000023.jpg: 640x640 1 Other, 1 Plastic bag & wrapper, 14.0ms\n",
            "image 60/300 /content/yolov5/taco/val/images/batch_13_000024.jpg: 640x640 1 Other, 14.3ms\n",
            "image 61/300 /content/yolov5/taco/val/images/batch_13_000029.jpg: 640x640 2 Others, 13.8ms\n",
            "image 62/300 /content/yolov5/taco/val/images/batch_13_000031.jpg: 640x640 2 Others, 14.5ms\n",
            "image 63/300 /content/yolov5/taco/val/images/batch_13_000038.jpg: 640x640 2 Plastic bag & wrappers, 13.7ms\n",
            "image 64/300 /content/yolov5/taco/val/images/batch_13_000043.jpg: 640x640 2 Others, 14.9ms\n",
            "image 65/300 /content/yolov5/taco/val/images/batch_13_000044.jpg: 640x640 1 Other, 1 Plastic bag & wrapper, 14.0ms\n",
            "image 66/300 /content/yolov5/taco/val/images/batch_13_000045.jpg: 640x640 6 Others, 14.2ms\n",
            "image 67/300 /content/yolov5/taco/val/images/batch_13_000053.jpg: 640x640 2 Others, 1 Plastic bag & wrapper, 14.5ms\n",
            "image 68/300 /content/yolov5/taco/val/images/batch_13_000055.jpg: 640x640 1 Other, 13.6ms\n",
            "image 69/300 /content/yolov5/taco/val/images/batch_13_000064.jpg: 640x640 (no detections), 14.7ms\n",
            "image 70/300 /content/yolov5/taco/val/images/batch_13_000067.jpg: 640x640 1 Plastic bag & wrapper, 13.7ms\n",
            "image 71/300 /content/yolov5/taco/val/images/batch_13_000075.jpg: 640x640 2 Others, 14.8ms\n",
            "image 72/300 /content/yolov5/taco/val/images/batch_13_000084.jpg: 640x640 10 Others, 14.0ms\n",
            "image 73/300 /content/yolov5/taco/val/images/batch_13_000093.jpg: 640x640 1 Plastic bag & wrapper, 13.7ms\n",
            "image 74/300 /content/yolov5/taco/val/images/batch_14_000008.jpg: 640x640 1 Other, 14.7ms\n",
            "image 75/300 /content/yolov5/taco/val/images/batch_14_000011.jpg: 640x640 1 Other, 14.0ms\n",
            "image 76/300 /content/yolov5/taco/val/images/batch_14_000012.jpg: 640x640 2 Others, 1 Plastic bag & wrapper, 14.3ms\n",
            "image 77/300 /content/yolov5/taco/val/images/batch_14_000013.jpg: 640x640 2 Others, 14.1ms\n",
            "image 78/300 /content/yolov5/taco/val/images/batch_14_000017.jpg: 640x640 1 Other, 13.7ms\n",
            "image 79/300 /content/yolov5/taco/val/images/batch_14_000026.jpg: 640x640 (no detections), 14.7ms\n",
            "image 80/300 /content/yolov5/taco/val/images/batch_14_000029.jpg: 640x640 3 Others, 13.8ms\n",
            "image 81/300 /content/yolov5/taco/val/images/batch_14_000041.jpg: 640x640 3 Others, 14.0ms\n",
            "image 82/300 /content/yolov5/taco/val/images/batch_14_000042.jpg: 640x640 4 Others, 14.1ms\n",
            "image 83/300 /content/yolov5/taco/val/images/batch_14_000046.jpg: 640x640 1 Other, 13.6ms\n",
            "image 84/300 /content/yolov5/taco/val/images/batch_14_000069.jpg: 640x640 4 Others, 14.8ms\n",
            "image 85/300 /content/yolov5/taco/val/images/batch_14_000070.jpg: 640x640 2 Others, 13.7ms\n",
            "image 86/300 /content/yolov5/taco/val/images/batch_14_000088.jpg: 640x640 2 Others, 14.0ms\n",
            "image 87/300 /content/yolov5/taco/val/images/batch_14_000099.jpg: 640x640 1 Other, 14.1ms\n",
            "image 88/300 /content/yolov5/taco/val/images/batch_15_000010.jpg: 640x640 2 Others, 1 Plastic bag & wrapper, 13.6ms\n",
            "image 89/300 /content/yolov5/taco/val/images/batch_15_000013.jpg: 640x640 4 Others, 3 Plastic bag & wrappers, 14.5ms\n",
            "image 90/300 /content/yolov5/taco/val/images/batch_15_000015.jpg: 640x640 6 Others, 2 Plastic bag & wrappers, 13.7ms\n",
            "image 91/300 /content/yolov5/taco/val/images/batch_15_000025.jpg: 640x640 16 Others, 1 Plastic bag & wrapper, 13.8ms\n",
            "image 92/300 /content/yolov5/taco/val/images/batch_15_000042.jpg: 640x640 1 Other, 14.0ms\n",
            "image 93/300 /content/yolov5/taco/val/images/batch_15_000046.jpg: 640x640 1 Other, 13.6ms\n",
            "image 94/300 /content/yolov5/taco/val/images/batch_15_000047.jpg: 640x640 3 Others, 14.3ms\n",
            "image 95/300 /content/yolov5/taco/val/images/batch_15_000051.jpg: 640x640 3 Others, 13.7ms\n",
            "image 96/300 /content/yolov5/taco/val/images/batch_15_000052.jpg: 640x640 1 Other, 15.0ms\n",
            "image 97/300 /content/yolov5/taco/val/images/batch_15_000056.jpg: 640x640 5 Others, 2 Plastic bag & wrappers, 14.1ms\n",
            "image 98/300 /content/yolov5/taco/val/images/batch_15_000057.jpg: 640x640 1 Plastic bag & wrapper, 13.7ms\n",
            "image 99/300 /content/yolov5/taco/val/images/batch_15_000059.jpg: 640x640 2 Others, 13.5ms\n",
            "image 100/300 /content/yolov5/taco/val/images/batch_15_000063.jpg: 640x640 2 Others, 14.7ms\n",
            "image 101/300 /content/yolov5/taco/val/images/batch_15_000065.jpg: 640x640 12 Others, 14.0ms\n",
            "image 102/300 /content/yolov5/taco/val/images/batch_15_000068.jpg: 640x640 6 Others, 14.1ms\n",
            "image 103/300 /content/yolov5/taco/val/images/batch_15_000075.jpg: 640x640 1 Other, 13.8ms\n",
            "image 104/300 /content/yolov5/taco/val/images/batch_15_000076.jpg: 640x640 2 Others, 1 Plastic bag & wrapper, 13.6ms\n",
            "image 105/300 /content/yolov5/taco/val/images/batch_15_000077.jpg: 640x640 1 Other, 13.9ms\n",
            "image 106/300 /content/yolov5/taco/val/images/batch_15_000080.jpg: 640x640 1 Other, 14.4ms\n",
            "image 107/300 /content/yolov5/taco/val/images/batch_1_000001.jpg: 640x640 3 Others, 14.4ms\n",
            "image 108/300 /content/yolov5/taco/val/images/batch_1_000004.jpg: 640x640 2 Others, 14.1ms\n",
            "image 109/300 /content/yolov5/taco/val/images/batch_1_000007.jpg: 640x640 4 Others, 14.6ms\n",
            "image 110/300 /content/yolov5/taco/val/images/batch_1_000013.jpg: 640x640 1 Other, 13.9ms\n",
            "image 111/300 /content/yolov5/taco/val/images/batch_1_000026.jpg: 640x640 2 Others, 1 Plastic bag & wrapper, 14.5ms\n",
            "image 112/300 /content/yolov5/taco/val/images/batch_1_000038.jpg: 640x640 6 Others, 13.8ms\n",
            "image 113/300 /content/yolov5/taco/val/images/batch_1_000053.jpg: 640x640 1 Other, 14.2ms\n",
            "image 114/300 /content/yolov5/taco/val/images/batch_1_000055.jpg: 640x640 1 Other, 14.4ms\n",
            "image 115/300 /content/yolov5/taco/val/images/batch_1_000062.JPG: 640x640 7 Others, 1 Plastic bag & wrapper, 13.8ms\n",
            "image 116/300 /content/yolov5/taco/val/images/batch_1_000066.JPG: 640x640 1 Other, 14.2ms\n",
            "image 117/300 /content/yolov5/taco/val/images/batch_1_000069.JPG: 640x640 1 Other, 13.7ms\n",
            "image 118/300 /content/yolov5/taco/val/images/batch_1_000071.JPG: 640x640 2 Others, 14.8ms\n",
            "image 119/300 /content/yolov5/taco/val/images/batch_1_000088.JPG: 640x640 3 Others, 13.9ms\n",
            "image 120/300 /content/yolov5/taco/val/images/batch_1_000099.JPG: 640x640 1 Other, 1 Plastic bag & wrapper, 14.7ms\n",
            "image 121/300 /content/yolov5/taco/val/images/batch_1_000100.JPG: 640x640 1 Other, 14.0ms\n",
            "image 122/300 /content/yolov5/taco/val/images/batch_1_000101.JPG: 640x640 1 Other, 14.1ms\n",
            "image 123/300 /content/yolov5/taco/val/images/batch_1_000106.JPG: 640x640 5 Others, 13.8ms\n",
            "image 124/300 /content/yolov5/taco/val/images/batch_1_000118.JPG: 640x640 4 Others, 14.0ms\n",
            "image 125/300 /content/yolov5/taco/val/images/batch_1_000124.JPG: 640x640 3 Others, 14.3ms\n",
            "image 126/300 /content/yolov5/taco/val/images/batch_2_000003.JPG: 640x640 2 Others, 14.2ms\n",
            "image 127/300 /content/yolov5/taco/val/images/batch_2_000008.JPG: 640x640 1 Other, 1 Plastic bag & wrapper, 13.9ms\n",
            "image 128/300 /content/yolov5/taco/val/images/batch_2_000010.JPG: 640x640 1 Other, 14.4ms\n",
            "image 129/300 /content/yolov5/taco/val/images/batch_2_000019.JPG: 640x640 2 Others, 13.8ms\n",
            "image 130/300 /content/yolov5/taco/val/images/batch_2_000030.JPG: 640x640 2 Others, 1 Plastic bag & wrapper, 14.1ms\n",
            "image 131/300 /content/yolov5/taco/val/images/batch_2_000035.JPG: 640x640 5 Others, 1 Plastic bag & wrapper, 13.9ms\n",
            "image 132/300 /content/yolov5/taco/val/images/batch_2_000036.JPG: 640x640 3 Others, 13.8ms\n",
            "image 133/300 /content/yolov5/taco/val/images/batch_2_000049.JPG: 640x640 2 Others, 14.1ms\n",
            "image 134/300 /content/yolov5/taco/val/images/batch_2_000052.JPG: 640x640 5 Others, 18.1ms\n",
            "image 135/300 /content/yolov5/taco/val/images/batch_2_000058.JPG: 640x640 2 Others, 1 Plastic bag & wrapper, 13.6ms\n",
            "image 136/300 /content/yolov5/taco/val/images/batch_2_000074.JPG: 640x640 9 Others, 14.0ms\n",
            "image 137/300 /content/yolov5/taco/val/images/batch_2_000079.JPG: 640x640 6 Others, 14.0ms\n",
            "image 138/300 /content/yolov5/taco/val/images/batch_2_000083.JPG: 640x640 1 Plastic bag & wrapper, 13.7ms\n",
            "image 139/300 /content/yolov5/taco/val/images/batch_2_000086.JPG: 640x640 2 Others, 14.3ms\n",
            "image 140/300 /content/yolov5/taco/val/images/batch_2_000091.JPG: 640x640 1 Plastic bag & wrapper, 13.9ms\n",
            "image 141/300 /content/yolov5/taco/val/images/batch_2_000093.JPG: 640x640 2 Others, 13.8ms\n",
            "image 142/300 /content/yolov5/taco/val/images/batch_3_IMG_4852.JPG: 640x640 1 Other, 14.1ms\n",
            "image 143/300 /content/yolov5/taco/val/images/batch_3_IMG_4856.JPG: 640x640 1 Plastic bag & wrapper, 13.7ms\n",
            "image 144/300 /content/yolov5/taco/val/images/batch_3_IMG_4860.JPG: 640x640 3 Others, 1 Plastic bag & wrapper, 14.9ms\n",
            "image 145/300 /content/yolov5/taco/val/images/batch_3_IMG_4874.JPG: 640x640 2 Others, 14.0ms\n",
            "image 146/300 /content/yolov5/taco/val/images/batch_3_IMG_4876.JPG: 640x640 1 Other, 13.9ms\n",
            "image 147/300 /content/yolov5/taco/val/images/batch_3_IMG_4878.JPG: 640x640 2 Others, 1 Plastic bag & wrapper, 13.9ms\n",
            "image 148/300 /content/yolov5/taco/val/images/batch_3_IMG_4887.JPG: 640x640 3 Others, 14.3ms\n",
            "image 149/300 /content/yolov5/taco/val/images/batch_3_IMG_4907.JPG: 640x640 1 Other, 1 Plastic bag & wrapper, 13.9ms\n",
            "image 150/300 /content/yolov5/taco/val/images/batch_3_IMG_4913.JPG: 640x640 4 Others, 1 Plastic bag & wrapper, 13.8ms\n",
            "image 151/300 /content/yolov5/taco/val/images/batch_3_IMG_4915.JPG: 640x640 2 Others, 14.4ms\n",
            "image 152/300 /content/yolov5/taco/val/images/batch_3_IMG_4926.JPG: 640x640 1 Other, 13.7ms\n",
            "image 153/300 /content/yolov5/taco/val/images/batch_3_IMG_4963.JPG: 640x640 1 Other, 1 Plastic bag & wrapper, 14.7ms\n",
            "image 154/300 /content/yolov5/taco/val/images/batch_3_IMG_4966.JPG: 640x640 1 Plastic bag & wrapper, 13.9ms\n",
            "image 155/300 /content/yolov5/taco/val/images/batch_3_IMG_5003.JPG: 640x640 8 Others, 1 Plastic bag & wrapper, 14.6ms\n",
            "image 156/300 /content/yolov5/taco/val/images/batch_3_IMG_5040.JPG: 640x640 1 Other, 1 Plastic bag & wrapper, 13.8ms\n",
            "image 157/300 /content/yolov5/taco/val/images/batch_3_IMG_5041.JPG: 640x640 1 Other, 1 Plastic bag & wrapper, 14.3ms\n",
            "image 158/300 /content/yolov5/taco/val/images/batch_3_IMG_5045.JPG: 640x640 1 Other, 1 Plastic bag & wrapper, 13.8ms\n",
            "image 159/300 /content/yolov5/taco/val/images/batch_3_IMG_5056.JPG: 640x640 1 Other, 14.5ms\n",
            "image 160/300 /content/yolov5/taco/val/images/batch_3_IMG_5060.JPG: 640x640 9 Others, 14.0ms\n",
            "image 161/300 /content/yolov5/taco/val/images/batch_3_IMG_5067.JPG: 640x640 4 Others, 1 Plastic bag & wrapper, 14.6ms\n",
            "image 162/300 /content/yolov5/taco/val/images/batch_4_000002.JPG: 640x640 7 Others, 1 Plastic bag & wrapper, 14.3ms\n",
            "image 163/300 /content/yolov5/taco/val/images/batch_4_000003.JPG: 640x640 1 Other, 13.7ms\n",
            "image 164/300 /content/yolov5/taco/val/images/batch_4_000012.JPG: 640x640 1 Other, 1 Plastic bag & wrapper, 14.6ms\n",
            "image 165/300 /content/yolov5/taco/val/images/batch_4_000014.JPG: 640x640 3 Others, 1 Plastic bag & wrapper, 14.1ms\n",
            "image 166/300 /content/yolov5/taco/val/images/batch_4_000027.JPG: 640x640 1 Other, 13.7ms\n",
            "image 167/300 /content/yolov5/taco/val/images/batch_4_000040.JPG: 640x640 1 Other, 14.2ms\n",
            "image 168/300 /content/yolov5/taco/val/images/batch_4_000041.JPG: 640x640 2 Others, 13.9ms\n",
            "image 169/300 /content/yolov5/taco/val/images/batch_4_000042.JPG: 640x640 1 Plastic bag & wrapper, 14.0ms\n",
            "image 170/300 /content/yolov5/taco/val/images/batch_4_000043.JPG: 640x640 1 Other, 14.5ms\n",
            "image 171/300 /content/yolov5/taco/val/images/batch_4_000045.JPG: 640x640 2 Plastic bag & wrappers, 13.7ms\n",
            "image 172/300 /content/yolov5/taco/val/images/batch_4_000046.JPG: 640x640 (no detections), 14.9ms\n",
            "image 173/300 /content/yolov5/taco/val/images/batch_4_000049.JPG: 640x640 1 Other, 14.2ms\n",
            "image 174/300 /content/yolov5/taco/val/images/batch_4_000054.JPG: 640x640 3 Others, 14.4ms\n",
            "image 175/300 /content/yolov5/taco/val/images/batch_4_000057.JPG: 640x640 1 Other, 14.1ms\n",
            "image 176/300 /content/yolov5/taco/val/images/batch_4_000065.JPG: 640x640 1 Other, 13.8ms\n",
            "image 177/300 /content/yolov5/taco/val/images/batch_4_000068.JPG: 640x640 1 Other, 14.6ms\n",
            "image 178/300 /content/yolov5/taco/val/images/batch_4_000079.JPG: 640x640 1 Plastic bag & wrapper, 15.2ms\n",
            "image 179/300 /content/yolov5/taco/val/images/batch_4_000081.JPG: 640x640 (no detections), 14.6ms\n",
            "image 180/300 /content/yolov5/taco/val/images/batch_4_000095.JPG: 640x640 1 Other, 13.9ms\n",
            "image 181/300 /content/yolov5/taco/val/images/batch_5_000001.JPG: 640x640 2 Others, 14.0ms\n",
            "image 182/300 /content/yolov5/taco/val/images/batch_5_000006.JPG: 640x640 5 Others, 17.4ms\n",
            "image 183/300 /content/yolov5/taco/val/images/batch_5_000009.JPG: 640x640 3 Others, 13.5ms\n",
            "image 184/300 /content/yolov5/taco/val/images/batch_5_000016.JPG: 640x640 2 Others, 13.6ms\n",
            "image 185/300 /content/yolov5/taco/val/images/batch_5_000018.JPG: 640x640 1 Other, 1 Plastic bag & wrapper, 14.2ms\n",
            "image 186/300 /content/yolov5/taco/val/images/batch_5_000020.JPG: 640x640 3 Others, 2 Plastic bag & wrappers, 13.8ms\n",
            "image 187/300 /content/yolov5/taco/val/images/batch_5_000026.JPG: 640x640 4 Others, 13.8ms\n",
            "image 188/300 /content/yolov5/taco/val/images/batch_5_000038.JPG: 640x640 1 Other, 14.7ms\n",
            "image 189/300 /content/yolov5/taco/val/images/batch_5_000039.JPG: 640x640 (no detections), 13.9ms\n",
            "image 190/300 /content/yolov5/taco/val/images/batch_5_000041.JPG: 640x640 3 Others, 1 Plastic bag & wrapper, 13.9ms\n",
            "image 191/300 /content/yolov5/taco/val/images/batch_5_000042.JPG: 640x640 1 Other, 13.9ms\n",
            "image 192/300 /content/yolov5/taco/val/images/batch_5_000048.JPG: 640x640 4 Others, 14.0ms\n",
            "image 193/300 /content/yolov5/taco/val/images/batch_5_000052.JPG: 640x640 2 Others, 14.5ms\n",
            "image 194/300 /content/yolov5/taco/val/images/batch_5_000054.JPG: 640x640 3 Others, 13.8ms\n",
            "image 195/300 /content/yolov5/taco/val/images/batch_5_000056.JPG: 640x640 5 Others, 1 Plastic bag & wrapper, 14.3ms\n",
            "image 196/300 /content/yolov5/taco/val/images/batch_5_000057.JPG: 640x640 1 Other, 14.0ms\n",
            "image 197/300 /content/yolov5/taco/val/images/batch_5_000058.JPG: 640x640 4 Others, 18.0ms\n",
            "image 198/300 /content/yolov5/taco/val/images/batch_5_000059.JPG: 640x640 3 Others, 13.8ms\n",
            "image 199/300 /content/yolov5/taco/val/images/batch_5_000067.JPG: 640x640 1 Other, 1 Plastic bag & wrapper, 13.7ms\n",
            "image 200/300 /content/yolov5/taco/val/images/batch_5_000068.JPG: 640x640 3 Others, 14.0ms\n",
            "image 201/300 /content/yolov5/taco/val/images/batch_5_000079.JPG: 640x640 1 Other, 1 Plastic bag & wrapper, 14.5ms\n",
            "image 202/300 /content/yolov5/taco/val/images/batch_5_000088.JPG: 640x640 1 Other, 13.7ms\n",
            "image 203/300 /content/yolov5/taco/val/images/batch_5_000090.JPG: 640x640 1 Other, 14.0ms\n",
            "image 204/300 /content/yolov5/taco/val/images/batch_5_000096.JPG: 640x640 1 Other, 14.2ms\n",
            "image 205/300 /content/yolov5/taco/val/images/batch_5_000097.JPG: 640x640 1 Other, 13.6ms\n",
            "image 206/300 /content/yolov5/taco/val/images/batch_5_000101.JPG: 640x640 1 Other, 1 Plastic bag & wrapper, 14.8ms\n",
            "image 207/300 /content/yolov5/taco/val/images/batch_5_000103.JPG: 640x640 1 Other, 14.6ms\n",
            "image 208/300 /content/yolov5/taco/val/images/batch_5_000113.JPG: 640x640 1 Plastic bag & wrapper, 13.8ms\n",
            "image 209/300 /content/yolov5/taco/val/images/batch_6_000001.JPG: 640x640 3 Others, 14.3ms\n",
            "image 210/300 /content/yolov5/taco/val/images/batch_6_000013.JPG: 640x640 3 Others, 13.9ms\n",
            "image 211/300 /content/yolov5/taco/val/images/batch_6_000017.JPG: 640x640 7 Others, 14.4ms\n",
            "image 212/300 /content/yolov5/taco/val/images/batch_6_000025.JPG: 640x640 1 Other, 13.7ms\n",
            "image 213/300 /content/yolov5/taco/val/images/batch_6_000028.JPG: 640x640 1 Other, 14.7ms\n",
            "image 214/300 /content/yolov5/taco/val/images/batch_6_000032.JPG: 640x640 5 Others, 14.1ms\n",
            "image 215/300 /content/yolov5/taco/val/images/batch_6_000036.JPG: 640x640 3 Others, 14.4ms\n",
            "image 216/300 /content/yolov5/taco/val/images/batch_6_000048.JPG: 640x640 1 Other, 14.0ms\n",
            "image 217/300 /content/yolov5/taco/val/images/batch_6_000049.JPG: 640x640 2 Plastic bag & wrappers, 13.9ms\n",
            "image 218/300 /content/yolov5/taco/val/images/batch_6_000051.JPG: 640x640 2 Others, 14.7ms\n",
            "image 219/300 /content/yolov5/taco/val/images/batch_6_000054.JPG: 640x640 2 Others, 14.0ms\n",
            "image 220/300 /content/yolov5/taco/val/images/batch_6_000064.JPG: 640x640 3 Others, 14.9ms\n",
            "image 221/300 /content/yolov5/taco/val/images/batch_6_000069.JPG: 640x640 2 Others, 14.0ms\n",
            "image 222/300 /content/yolov5/taco/val/images/batch_6_000070.JPG: 640x640 1 Other, 14.2ms\n",
            "image 223/300 /content/yolov5/taco/val/images/batch_6_000077.JPG: 640x640 1 Other, 14.0ms\n",
            "image 224/300 /content/yolov5/taco/val/images/batch_6_000078.JPG: 640x640 7 Others, 13.8ms\n",
            "image 225/300 /content/yolov5/taco/val/images/batch_6_000087.JPG: 640x640 3 Others, 1 Plastic bag & wrapper, 14.4ms\n",
            "image 226/300 /content/yolov5/taco/val/images/batch_6_000096.JPG: 640x640 2 Others, 13.8ms\n",
            "image 227/300 /content/yolov5/taco/val/images/batch_6_000097.JPG: 640x640 5 Others, 1 Plastic bag & wrapper, 15.1ms\n",
            "image 228/300 /content/yolov5/taco/val/images/batch_7_000001.JPG: 640x640 2 Others, 14.2ms\n",
            "image 229/300 /content/yolov5/taco/val/images/batch_7_000003.JPG: 640x640 1 Other, 13.9ms\n",
            "image 230/300 /content/yolov5/taco/val/images/batch_7_000005.JPG: 640x640 2 Plastic bag & wrappers, 14.6ms\n",
            "image 231/300 /content/yolov5/taco/val/images/batch_7_000008.JPG: 640x640 (no detections), 13.8ms\n",
            "image 232/300 /content/yolov5/taco/val/images/batch_7_000010.JPG: 640x640 4 Others, 15.2ms\n",
            "image 233/300 /content/yolov5/taco/val/images/batch_7_000014.JPG: 640x640 3 Others, 14.1ms\n",
            "image 234/300 /content/yolov5/taco/val/images/batch_7_000019.JPG: 640x640 6 Others, 14.9ms\n",
            "image 235/300 /content/yolov5/taco/val/images/batch_7_000021.JPG: 640x640 2 Others, 1 Plastic bag & wrapper, 13.9ms\n",
            "image 236/300 /content/yolov5/taco/val/images/batch_7_000025.JPG: 640x640 1 Other, 13.8ms\n",
            "image 237/300 /content/yolov5/taco/val/images/batch_7_000031.JPG: 640x640 2 Others, 14.7ms\n",
            "image 238/300 /content/yolov5/taco/val/images/batch_7_000034.JPG: 640x640 (no detections), 13.9ms\n",
            "image 239/300 /content/yolov5/taco/val/images/batch_7_000042.JPG: 640x640 10 Others, 14.6ms\n",
            "image 240/300 /content/yolov5/taco/val/images/batch_7_000049.JPG: 640x640 10 Others, 2 Plastic bag & wrappers, 13.9ms\n",
            "image 241/300 /content/yolov5/taco/val/images/batch_7_000060.JPG: 640x640 1 Plastic bag & wrapper, 14.3ms\n",
            "image 242/300 /content/yolov5/taco/val/images/batch_7_000069.JPG: 640x640 1 Plastic bag & wrapper, 13.8ms\n",
            "image 243/300 /content/yolov5/taco/val/images/batch_7_000070.JPG: 640x640 4 Others, 14.2ms\n",
            "image 244/300 /content/yolov5/taco/val/images/batch_7_000072.JPG: 640x640 1 Other, 14.1ms\n",
            "image 245/300 /content/yolov5/taco/val/images/batch_7_000078.JPG: 640x640 12 Others, 4 Plastic bag & wrappers, 13.6ms\n",
            "image 246/300 /content/yolov5/taco/val/images/batch_7_000087.JPG: 640x640 4 Others, 14.2ms\n",
            "image 247/300 /content/yolov5/taco/val/images/batch_7_000089.JPG: 640x640 6 Others, 2 Plastic bag & wrappers, 13.9ms\n",
            "image 248/300 /content/yolov5/taco/val/images/batch_7_000095.JPG: 640x640 1 Other, 13.7ms\n",
            "image 249/300 /content/yolov5/taco/val/images/batch_7_000097.JPG: 640x640 3 Others, 1 Plastic bag & wrapper, 14.8ms\n",
            "image 250/300 /content/yolov5/taco/val/images/batch_7_000112.JPG: 640x640 1 Other, 14.1ms\n",
            "image 251/300 /content/yolov5/taco/val/images/batch_7_000115.JPG: 640x640 2 Others, 14.0ms\n",
            "image 252/300 /content/yolov5/taco/val/images/batch_7_000120.JPG: 640x640 3 Others, 14.3ms\n",
            "image 253/300 /content/yolov5/taco/val/images/batch_7_000126.JPG: 640x640 2 Others, 13.8ms\n",
            "image 254/300 /content/yolov5/taco/val/images/batch_7_000127.JPG: 640x640 1 Other, 14.8ms\n",
            "image 255/300 /content/yolov5/taco/val/images/batch_7_000128.JPG: 640x640 1 Other, 1 Plastic bag & wrapper, 13.8ms\n",
            "image 256/300 /content/yolov5/taco/val/images/batch_7_000134.JPG: 640x640 5 Others, 14.9ms\n",
            "image 257/300 /content/yolov5/taco/val/images/batch_7_000142.JPG: 640x640 1 Other, 1 Plastic bag & wrapper, 14.2ms\n",
            "image 258/300 /content/yolov5/taco/val/images/batch_8_000001.jpg: 640x640 1 Other, 13.8ms\n",
            "image 259/300 /content/yolov5/taco/val/images/batch_8_000008.jpg: 640x640 1 Other, 14.6ms\n",
            "image 260/300 /content/yolov5/taco/val/images/batch_8_000011.jpg: 640x640 2 Others, 14.6ms\n",
            "image 261/300 /content/yolov5/taco/val/images/batch_8_000015.jpg: 640x640 3 Others, 14.3ms\n",
            "image 262/300 /content/yolov5/taco/val/images/batch_8_000016.jpg: 640x640 2 Others, 14.4ms\n",
            "image 263/300 /content/yolov5/taco/val/images/batch_8_000017.jpg: 640x640 1 Other, 13.8ms\n",
            "image 264/300 /content/yolov5/taco/val/images/batch_8_000020.jpg: 640x640 10 Others, 14.6ms\n",
            "image 265/300 /content/yolov5/taco/val/images/batch_8_000022.jpg: 640x640 1 Other, 13.7ms\n",
            "image 266/300 /content/yolov5/taco/val/images/batch_8_000025.jpg: 640x640 4 Others, 1 Plastic bag & wrapper, 14.5ms\n",
            "image 267/300 /content/yolov5/taco/val/images/batch_8_000032.jpg: 640x640 3 Others, 14.1ms\n",
            "image 268/300 /content/yolov5/taco/val/images/batch_8_000038.jpg: 640x640 2 Others, 13.8ms\n",
            "image 269/300 /content/yolov5/taco/val/images/batch_8_000040.jpg: 640x640 1 Other, 14.8ms\n",
            "image 270/300 /content/yolov5/taco/val/images/batch_8_000050.jpg: 640x640 (no detections), 14.1ms\n",
            "image 271/300 /content/yolov5/taco/val/images/batch_8_000051.jpg: 640x640 9 Others, 15.3ms\n",
            "image 272/300 /content/yolov5/taco/val/images/batch_8_000054.jpg: 640x640 (no detections), 14.2ms\n",
            "image 273/300 /content/yolov5/taco/val/images/batch_8_000055.jpg: 640x640 2 Others, 1 Plastic bag & wrapper, 14.6ms\n",
            "image 274/300 /content/yolov5/taco/val/images/batch_8_000057.jpg: 640x640 2 Others, 13.9ms\n",
            "image 275/300 /content/yolov5/taco/val/images/batch_8_000064.jpg: 640x640 (no detections), 14.5ms\n",
            "image 276/300 /content/yolov5/taco/val/images/batch_8_000068.jpg: 640x640 7 Others, 14.0ms\n",
            "image 277/300 /content/yolov5/taco/val/images/batch_8_000073.jpg: 640x640 5 Others, 15.1ms\n",
            "image 278/300 /content/yolov5/taco/val/images/batch_8_000079.jpg: 640x640 1 Other, 15.8ms\n",
            "image 279/300 /content/yolov5/taco/val/images/batch_8_000084.jpg: 640x640 1 Other, 13.8ms\n",
            "image 280/300 /content/yolov5/taco/val/images/batch_8_000086.jpg: 640x640 1 Other, 14.5ms\n",
            "image 281/300 /content/yolov5/taco/val/images/batch_8_000088.jpg: 640x640 2 Others, 13.8ms\n",
            "image 282/300 /content/yolov5/taco/val/images/batch_8_000093.jpg: 640x640 2 Others, 14.5ms\n",
            "image 283/300 /content/yolov5/taco/val/images/batch_8_000097.jpg: 640x640 4 Others, 13.7ms\n",
            "image 284/300 /content/yolov5/taco/val/images/batch_9_000005.jpg: 640x640 2 Others, 14.8ms\n",
            "image 285/300 /content/yolov5/taco/val/images/batch_9_000013.jpg: 640x640 1 Other, 14.0ms\n",
            "image 286/300 /content/yolov5/taco/val/images/batch_9_000015.jpg: 640x640 1 Plastic bag & wrapper, 14.7ms\n",
            "image 287/300 /content/yolov5/taco/val/images/batch_9_000017.jpg: 640x640 1 Plastic bag & wrapper, 14.2ms\n",
            "image 288/300 /content/yolov5/taco/val/images/batch_9_000031.jpg: 640x640 2 Others, 4 Plastic bag & wrappers, 14.0ms\n",
            "image 289/300 /content/yolov5/taco/val/images/batch_9_000039.jpg: 640x640 4 Others, 14.1ms\n",
            "image 290/300 /content/yolov5/taco/val/images/batch_9_000044.jpg: 640x640 1 Plastic bag & wrapper, 13.7ms\n",
            "image 291/300 /content/yolov5/taco/val/images/batch_9_000048.jpg: 640x640 1 Other, 14.2ms\n",
            "image 292/300 /content/yolov5/taco/val/images/batch_9_000054.jpg: 640x640 3 Others, 15.3ms\n",
            "image 293/300 /content/yolov5/taco/val/images/batch_9_000060.jpg: 640x640 2 Others, 1 Plastic bag & wrapper, 13.7ms\n",
            "image 294/300 /content/yolov5/taco/val/images/batch_9_000061.jpg: 640x640 2 Others, 14.0ms\n",
            "image 295/300 /content/yolov5/taco/val/images/batch_9_000062.jpg: 640x640 3 Others, 14.6ms\n",
            "image 296/300 /content/yolov5/taco/val/images/batch_9_000073.jpg: 640x640 3 Others, 14.0ms\n",
            "image 297/300 /content/yolov5/taco/val/images/batch_9_000074.jpg: 640x640 4 Others, 14.7ms\n",
            "image 298/300 /content/yolov5/taco/val/images/batch_9_000084.jpg: 640x640 2 Others, 13.9ms\n",
            "image 299/300 /content/yolov5/taco/val/images/batch_9_000087.jpg: 640x640 4 Others, 14.8ms\n",
            "image 300/300 /content/yolov5/taco/val/images/batch_9_000097.jpg: 640x640 5 Others, 14.0ms\n",
            "Speed: 0.5ms pre-process, 14.5ms inference, 0.8ms NMS per image at shape (1, 3, 640, 640)\n",
            "Results saved to \u001b[1mruns/detect/exp\u001b[0m\n"
          ]
        }
      ]
    },
    {
      "cell_type": "markdown",
      "source": [
        "구글 드라이브로 객체 인식 결과를 복사합니다."
      ],
      "metadata": {
        "id": "yQZIgLGNw4_g"
      },
      "id": "yQZIgLGNw4_g"
    },
    {
      "cell_type": "code",
      "source": [
        "from google.colab import drive\n",
        "drive.mount('/content/drive')"
      ],
      "metadata": {
        "colab": {
          "base_uri": "https://localhost:8080/",
          "height": 342
        },
        "id": "hAV1BVJ1YJqS",
        "outputId": "64d344de-65c9-4e92-909c-8c13fa11c9cd"
      },
      "id": "hAV1BVJ1YJqS",
      "execution_count": null,
      "outputs": [
        {
          "output_type": "error",
          "ename": "MessageError",
          "evalue": "ignored",
          "traceback": [
            "\u001b[0;31m---------------------------------------------------------------------------\u001b[0m",
            "\u001b[0;31mMessageError\u001b[0m                              Traceback (most recent call last)",
            "\u001b[0;32m<ipython-input-29-d5df0069828e>\u001b[0m in \u001b[0;36m<module>\u001b[0;34m\u001b[0m\n\u001b[1;32m      1\u001b[0m \u001b[0;32mfrom\u001b[0m \u001b[0mgoogle\u001b[0m\u001b[0;34m.\u001b[0m\u001b[0mcolab\u001b[0m \u001b[0;32mimport\u001b[0m \u001b[0mdrive\u001b[0m\u001b[0;34m\u001b[0m\u001b[0;34m\u001b[0m\u001b[0m\n\u001b[0;32m----> 2\u001b[0;31m \u001b[0mdrive\u001b[0m\u001b[0;34m.\u001b[0m\u001b[0mmount\u001b[0m\u001b[0;34m(\u001b[0m\u001b[0;34m'/content/drive'\u001b[0m\u001b[0;34m)\u001b[0m\u001b[0;34m\u001b[0m\u001b[0;34m\u001b[0m\u001b[0m\n\u001b[0m",
            "\u001b[0;32m/usr/local/lib/python3.8/dist-packages/google/colab/drive.py\u001b[0m in \u001b[0;36mmount\u001b[0;34m(mountpoint, force_remount, timeout_ms, readonly)\u001b[0m\n\u001b[1;32m     99\u001b[0m \u001b[0;32mdef\u001b[0m \u001b[0mmount\u001b[0m\u001b[0;34m(\u001b[0m\u001b[0mmountpoint\u001b[0m\u001b[0;34m,\u001b[0m \u001b[0mforce_remount\u001b[0m\u001b[0;34m=\u001b[0m\u001b[0;32mFalse\u001b[0m\u001b[0;34m,\u001b[0m \u001b[0mtimeout_ms\u001b[0m\u001b[0;34m=\u001b[0m\u001b[0;36m120000\u001b[0m\u001b[0;34m,\u001b[0m \u001b[0mreadonly\u001b[0m\u001b[0;34m=\u001b[0m\u001b[0;32mFalse\u001b[0m\u001b[0;34m)\u001b[0m\u001b[0;34m:\u001b[0m\u001b[0;34m\u001b[0m\u001b[0;34m\u001b[0m\u001b[0m\n\u001b[1;32m    100\u001b[0m   \u001b[0;34m\"\"\"Mount your Google Drive at the specified mountpoint path.\"\"\"\u001b[0m\u001b[0;34m\u001b[0m\u001b[0;34m\u001b[0m\u001b[0m\n\u001b[0;32m--> 101\u001b[0;31m   return _mount(\n\u001b[0m\u001b[1;32m    102\u001b[0m       \u001b[0mmountpoint\u001b[0m\u001b[0;34m,\u001b[0m\u001b[0;34m\u001b[0m\u001b[0;34m\u001b[0m\u001b[0m\n\u001b[1;32m    103\u001b[0m       \u001b[0mforce_remount\u001b[0m\u001b[0;34m=\u001b[0m\u001b[0mforce_remount\u001b[0m\u001b[0;34m,\u001b[0m\u001b[0;34m\u001b[0m\u001b[0;34m\u001b[0m\u001b[0m\n",
            "\u001b[0;32m/usr/local/lib/python3.8/dist-packages/google/colab/drive.py\u001b[0m in \u001b[0;36m_mount\u001b[0;34m(mountpoint, force_remount, timeout_ms, ephemeral, readonly)\u001b[0m\n\u001b[1;32m    122\u001b[0m       'TBE_EPHEM_CREDS_ADDR'] if ephemeral else _os.environ['TBE_CREDS_ADDR']\n\u001b[1;32m    123\u001b[0m   \u001b[0;32mif\u001b[0m \u001b[0mephemeral\u001b[0m\u001b[0;34m:\u001b[0m\u001b[0;34m\u001b[0m\u001b[0;34m\u001b[0m\u001b[0m\n\u001b[0;32m--> 124\u001b[0;31m     _message.blocking_request(\n\u001b[0m\u001b[1;32m    125\u001b[0m         'request_auth', request={'authType': 'dfs_ephemeral'}, timeout_sec=None)\n\u001b[1;32m    126\u001b[0m \u001b[0;34m\u001b[0m\u001b[0m\n",
            "\u001b[0;32m/usr/local/lib/python3.8/dist-packages/google/colab/_message.py\u001b[0m in \u001b[0;36mblocking_request\u001b[0;34m(request_type, request, timeout_sec, parent)\u001b[0m\n\u001b[1;32m    169\u001b[0m   request_id = send_request(\n\u001b[1;32m    170\u001b[0m       request_type, request, parent=parent, expect_reply=True)\n\u001b[0;32m--> 171\u001b[0;31m   \u001b[0;32mreturn\u001b[0m \u001b[0mread_reply_from_input\u001b[0m\u001b[0;34m(\u001b[0m\u001b[0mrequest_id\u001b[0m\u001b[0;34m,\u001b[0m \u001b[0mtimeout_sec\u001b[0m\u001b[0;34m)\u001b[0m\u001b[0;34m\u001b[0m\u001b[0;34m\u001b[0m\u001b[0m\n\u001b[0m",
            "\u001b[0;32m/usr/local/lib/python3.8/dist-packages/google/colab/_message.py\u001b[0m in \u001b[0;36mread_reply_from_input\u001b[0;34m(message_id, timeout_sec)\u001b[0m\n\u001b[1;32m    100\u001b[0m         reply.get('colab_msg_id') == message_id):\n\u001b[1;32m    101\u001b[0m       \u001b[0;32mif\u001b[0m \u001b[0;34m'error'\u001b[0m \u001b[0;32min\u001b[0m \u001b[0mreply\u001b[0m\u001b[0;34m:\u001b[0m\u001b[0;34m\u001b[0m\u001b[0;34m\u001b[0m\u001b[0m\n\u001b[0;32m--> 102\u001b[0;31m         \u001b[0;32mraise\u001b[0m \u001b[0mMessageError\u001b[0m\u001b[0;34m(\u001b[0m\u001b[0mreply\u001b[0m\u001b[0;34m[\u001b[0m\u001b[0;34m'error'\u001b[0m\u001b[0;34m]\u001b[0m\u001b[0;34m)\u001b[0m\u001b[0;34m\u001b[0m\u001b[0;34m\u001b[0m\u001b[0m\n\u001b[0m\u001b[1;32m    103\u001b[0m       \u001b[0;32mreturn\u001b[0m \u001b[0mreply\u001b[0m\u001b[0;34m.\u001b[0m\u001b[0mget\u001b[0m\u001b[0;34m(\u001b[0m\u001b[0;34m'data'\u001b[0m\u001b[0;34m,\u001b[0m \u001b[0;32mNone\u001b[0m\u001b[0;34m)\u001b[0m\u001b[0;34m\u001b[0m\u001b[0;34m\u001b[0m\u001b[0m\n\u001b[1;32m    104\u001b[0m \u001b[0;34m\u001b[0m\u001b[0m\n",
            "\u001b[0;31mMessageError\u001b[0m: Error: credential propagation was unsuccessful"
          ]
        }
      ]
    },
    {
      "cell_type": "code",
      "source": [
        "!cp -r /content/yolov5/runs/detect/exp2 /content/drive/MyDrive"
      ],
      "metadata": {
        "id": "x8pJWiJwYRN-"
      },
      "id": "x8pJWiJwYRN-",
      "execution_count": null,
      "outputs": []
    }
  ],
  "metadata": {
    "accelerator": "GPU",
    "colab": {
      "machine_shape": "hm",
      "provenance": [],
      "include_colab_link": true
    },
    "kernelspec": {
      "display_name": "Python 3",
      "language": "python",
      "name": "python3"
    },
    "language_info": {
      "codemirror_mode": {
        "name": "ipython",
        "version": 3
      },
      "file_extension": ".py",
      "mimetype": "text/x-python",
      "name": "python",
      "nbconvert_exporter": "python",
      "pygments_lexer": "ipython3",
      "version": "3.7.12"
    },
    "papermill": {
      "default_parameters": {},
      "duration": 26478.265871,
      "end_time": "2022-03-10T09:25:02.754187",
      "environment_variables": {},
      "exception": null,
      "input_path": "__notebook__.ipynb",
      "output_path": "__notebook__.ipynb",
      "parameters": {},
      "start_time": "2022-03-10T02:03:44.488316",
      "version": "2.3.3"
    },
    "gpuClass": "standard"
  },
  "nbformat": 4,
  "nbformat_minor": 5
}