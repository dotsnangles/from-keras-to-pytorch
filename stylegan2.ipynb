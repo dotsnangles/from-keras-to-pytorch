{
  "cells": [
    {
      "cell_type": "markdown",
      "metadata": {
        "id": "view-in-github",
        "colab_type": "text"
      },
      "source": [
        "<a href=\"https://colab.research.google.com/github/dotsnangles/from-keras-to-pytorch-and-more/blob/main/stylegan2.ipynb\" target=\"_parent\"><img src=\"https://colab.research.google.com/assets/colab-badge.svg\" alt=\"Open In Colab\"/></a>"
      ]
    },
    {
      "cell_type": "markdown",
      "source": [
        "# 개발 환경 구축"
      ],
      "metadata": {
        "id": "zqMgowTEFis4"
      }
    },
    {
      "cell_type": "markdown",
      "source": [
        "GPU의 정보를 확인합니다."
      ],
      "metadata": {
        "id": "51udn8sKFcbF"
      }
    },
    {
      "cell_type": "code",
      "execution_count": 3,
      "metadata": {
        "id": "iPrGcTX8c7E-",
        "colab": {
          "base_uri": "https://localhost:8080/"
        },
        "outputId": "90bc983c-2ea0-452e-e68c-74d1c2bf171a"
      },
      "outputs": [
        {
          "output_type": "stream",
          "name": "stdout",
          "text": [
            "Tue Jan  3 01:24:37 2023       \n",
            "+-----------------------------------------------------------------------------+\n",
            "| NVIDIA-SMI 460.32.03    Driver Version: 460.32.03    CUDA Version: 11.2     |\n",
            "|-------------------------------+----------------------+----------------------+\n",
            "| GPU  Name        Persistence-M| Bus-Id        Disp.A | Volatile Uncorr. ECC |\n",
            "| Fan  Temp  Perf  Pwr:Usage/Cap|         Memory-Usage | GPU-Util  Compute M. |\n",
            "|                               |                      |               MIG M. |\n",
            "|===============================+======================+======================|\n",
            "|   0  Tesla T4            Off  | 00000000:00:04.0 Off |                    0 |\n",
            "| N/A   59C    P0    28W /  70W |      0MiB / 15109MiB |      0%      Default |\n",
            "|                               |                      |                  N/A |\n",
            "+-------------------------------+----------------------+----------------------+\n",
            "                                                                               \n",
            "+-----------------------------------------------------------------------------+\n",
            "| Processes:                                                                  |\n",
            "|  GPU   GI   CI        PID   Type   Process name                  GPU Memory |\n",
            "|        ID   ID                                                   Usage      |\n",
            "|=============================================================================|\n",
            "|  No running processes found                                                 |\n",
            "+-----------------------------------------------------------------------------+\n"
          ]
        }
      ],
      "source": [
        "!nvidia-smi"
      ]
    },
    {
      "cell_type": "markdown",
      "source": [
        "구글 드라이브를 코랩에 마운트합니다."
      ],
      "metadata": {
        "id": "ce_-BB4vFTtH"
      }
    },
    {
      "cell_type": "code",
      "source": [
        "from google.colab import drive\n",
        "drive.mount('/content/drive')"
      ],
      "metadata": {
        "colab": {
          "base_uri": "https://localhost:8080/"
        },
        "id": "nSKn43HnEb_v",
        "outputId": "2909bf9a-7d71-4a87-d081-c7a37767d339"
      },
      "execution_count": 4,
      "outputs": [
        {
          "output_type": "stream",
          "name": "stdout",
          "text": [
            "Mounted at /content/drive\n"
          ]
        }
      ]
    },
    {
      "cell_type": "markdown",
      "source": [
        "개발 환경을 구축합니다.\n",
        "- 아래 코드를 실행한 뒤 우측의 파일탭을 새로고침하면 /content/pyimgdata와 /content/stylegan2-ada-pytorch가 생성되어 있습니다.\n",
        "- pyimgdata를 통해 훈련에 필요한 이미지를 크롤링하고 stylegan2-ada-pytorch의 스크립트를 사용해 훈련을 진행합니다."
      ],
      "metadata": {
        "id": "N9PScYRGFXNR"
      }
    },
    {
      "cell_type": "code",
      "execution_count": 5,
      "metadata": {
        "id": "uNqsi6VWAlWo",
        "colab": {
          "base_uri": "https://localhost:8080/"
        },
        "outputId": "1c5fcda0-1a0e-4df4-ac5d-ea8633a123ce"
      },
      "outputs": [
        {
          "output_type": "stream",
          "name": "stdout",
          "text": [
            "fatal: destination path 'stylegan2-ada-pytorch' already exists and is not an empty directory.\n",
            "fatal: destination path 'pyimgdata' already exists and is not an empty directory.\n"
          ]
        }
      ],
      "source": [
        "!pip install -q torch==1.8.1 torchvision==0.9.1 flickrapi ninja\n",
        "!git clone https://github.com/NVlabs/stylegan2-ada-pytorch.git\n",
        "!git clone https://github.com/jeffheaton/pyimgdata.git"
      ]
    },
    {
      "cell_type": "markdown",
      "metadata": {
        "id": "_9qbVplkZYjp"
      },
      "source": [
        "# StyleGAN2 훈련\n",
        "\n",
        "- 구글 드라이브와 코랩을 활용해 훈련을 진행합니다.\n",
        "- 아래 구글 드라이브를 마운트하고 아래 폴더를 생성해줍니다.\n",
        "\n",
        "    -  ./data/gan/images - RAW images I wish to train on.\n",
        "    -  ./data/gan/datasets - Actual training datasets that I convert from the raw images.\n",
        "    -  ./data/gan/experiments - The output from StyleGAN2, my image previews and saved network snapshots.\n",
        "- 체크포인트를 구글 드라이브에 저장하며 진행하므로 코랩 연결 시간이 초과되어 연결이 끊어지더라도 후속 훈련을 수행할 수 있습니다."
      ]
    },
    {
      "cell_type": "code",
      "source": [
        "!mkdir -p /content/drive/MyDrive/data/gan/images\n",
        "!mkdir -p /content/drive/MyDrive/data/gan/dataset\n",
        "!mkdir -p /content/drive/MyDrive/data/gan/experiments "
      ],
      "metadata": {
        "id": "5BzTjZ2Lh3AP"
      },
      "execution_count": null,
      "outputs": []
    },
    {
      "cell_type": "markdown",
      "source": [
        "# Flicker의 이미지를 크롤링하여 StyleGan2의 훈련 데이터로 사용합니다."
      ],
      "metadata": {
        "id": "ymAilYhWl_px"
      }
    },
    {
      "cell_type": "markdown",
      "source": [
        "- pyimgdata를 활용하여 쉽게 Flicker의 이미지를 다운로드 할 수 있습니다.\n",
        "- Flickr 계정을 생성하고 API Key와 Secret을 부여받아야 합니다.\n"
      ],
      "metadata": {
        "id": "ZuXoGNnRmLX_"
      }
    },
    {
      "cell_type": "markdown",
      "source": [
        "다음 페이지에 접속해 API Key를 생성합니다.\n",
        "- https://www.flickr.com/services/\n",
        "- Key와 Secret을 각각 하단의 id와 secret에 대입합니다."
      ],
      "metadata": {
        "id": "EXsXyU72K67d"
      }
    },
    {
      "cell_type": "markdown",
      "source": [
        "/content/pyimgdata/config_flickr.ini 설정이 필요합니다. 변경이 필요한 항목은 다음과 같습니다.\n",
        "- id / secret / path / search / prefix"
      ],
      "metadata": {
        "id": "Zpl33CNLKfO7"
      }
    },
    {
      "cell_type": "markdown",
      "source": [
        "```\n",
        "[FLICKR]\n",
        "id = [your api id]\n",
        "secret = [your secret/password]\n",
        "[Download]\n",
        "path = /content/drive/MyDrive/data/gan/images\n",
        "search = christmas decorations\n",
        "prefix = christmas\n",
        "update_minutes = 1\n",
        "license = 0,1,2,3,4,5,6,7,8,9,10\n",
        "max_download = 100000\n",
        "sources_file = sources.csv\n",
        "[Process]\n",
        "process = True\n",
        "crop_square = True\n",
        "min_width = 256\n",
        "min_height = 256\n",
        "scale_width = 256\n",
        "scale_height = 256\n",
        "image_format = jpg\n",
        "```"
      ],
      "metadata": {
        "id": "hhFBab7iKJ1H"
      }
    },
    {
      "cell_type": "markdown",
      "source": [
        "아래 코드를 실행하면 크롤링이 진행됩니다."
      ],
      "metadata": {
        "id": "Fkzre_veN7wJ"
      }
    },
    {
      "cell_type": "code",
      "source": [
        "%cd /content/pyimgdata\n",
        "!python flickr-download.py\n",
        "%cd /content"
      ],
      "metadata": {
        "id": "9droAEVBi0Ur"
      },
      "execution_count": null,
      "outputs": []
    },
    {
      "cell_type": "markdown",
      "metadata": {
        "id": "xmSOo3HvGwgV"
      },
      "source": [
        "# 훈련에 사용시 문제가 있는 이미지가 있는지 확인합니다.\n",
        "\n",
        "- 모든 이미지는 같은 크기여야 하며 동일한 수의 컬러 채널을 가지고 있어야 합니다.\n",
        "- 그렇지 않을시 훈련 도중 에러가 발생합니다."
      ]
    },
    {
      "cell_type": "code",
      "execution_count": null,
      "metadata": {
        "id": "FLKBUUfXHJ0a"
      },
      "outputs": [],
      "source": [
        "from os import listdir\n",
        "from os.path import isfile, join\n",
        "import os\n",
        "from PIL import Image\n",
        "from tqdm.notebook import tqdm\n",
        "\n",
        "IMAGE_PATH = '/content/drive/MyDrive/data/gan/images'\n",
        "files = [f for f in listdir(IMAGE_PATH) if isfile(join(IMAGE_PATH, f))]\n",
        "\n",
        "base_size = None\n",
        "for file in tqdm(files):\n",
        "  file2 = os.path.join(IMAGE_PATH,file)\n",
        "  img = Image.open(file2)\n",
        "  sz = img.size\n",
        "  if base_size and sz!=base_size:\n",
        "    print(f\"Inconsistant size: {file2}\")\n",
        "  elif img.mode!='RGB':\n",
        "    print(f\"Inconsistant color format: {file2}\")\n",
        "  else:\n",
        "    base_size = sz\n"
      ]
    },
    {
      "cell_type": "markdown",
      "metadata": {
        "id": "JXAgXh8uGo13"
      },
      "source": [
        "# 크롤링한 이미지를 활용해 데이터세트를 생성합니다."
      ]
    },
    {
      "cell_type": "code",
      "execution_count": null,
      "metadata": {
        "id": "lYP2NlwHA6r9"
      },
      "outputs": [],
      "source": [
        "!python /content/stylegan2-ada-pytorch/dataset_tool.py --source /content/drive/MyDrive/data/gan/images --dest /content/drive/MyDrive/data/gan/dataset"
      ]
    },
    {
      "cell_type": "markdown",
      "metadata": {
        "id": "5No-bokaG5Ed"
      },
      "source": [
        "# 초기 훈련을 시작합니다.\n",
        "\n",
        "-  workers 설정이 적용되지 않는 경우 코드블록 실행을 중지 후 다시 시작합니다.\n",
        "- 코드블록을 재실행했음에도 workers가 코랩의 cpu 코어 갯수인 2개로 설정되지 않는 경우 /content/stylegan2-ada-pytorch/train.py의 108번째 줄의 num_workers를 2로 수정한 뒤 다시 실행합니다.\n",
        "- train.py를 살펴보면 더 많은 훈련 설정이 가능한 것을 살펴볼 수 있습니다.\n",
        "- 40tik마다 성능지표인 fid 계산이 이루어집니다. fid가 5 이하인 경우 충분히 훈련이 진행된 것으로 판단할 수 있습니다.\n",
        "- 코랩 연결이 종료되더라도 체크포인트부터 훈련을 재개할 수 있습니다."
      ]
    },
    {
      "cell_type": "code",
      "execution_count": null,
      "metadata": {
        "id": "tzAdHMp7KLzz"
      },
      "outputs": [],
      "source": [
        "import os\n",
        "\n",
        "# Modify these to suit your needs\n",
        "EXPERIMENTS = \"/content/drive/MyDrive/data/gan/experiments\"\n",
        "DATA = \"/content/drive/MyDrive/data/gan/dataset\"\n",
        "SNAP = 10\n",
        "WORKERS = 2\n",
        "\n",
        "# Build the command and run it\n",
        "cmd = f\"/usr/bin/python3 /content/stylegan2-ada-pytorch/train.py --snap {SNAP} --outdir {EXPERIMENTS} --data {DATA} --workers {WORKERS}\"\n",
        "!{cmd}"
      ]
    },
    {
      "cell_type": "markdown",
      "metadata": {
        "id": "NS-oe6jMG_0A"
      },
      "source": [
        "# 체크포인트 훈련 재개"
      ]
    },
    {
      "cell_type": "code",
      "execution_count": null,
      "metadata": {
        "id": "pvPZLsCUlzGn"
      },
      "outputs": [],
      "source": [
        "import os\n",
        "\n",
        "# Modify these to suit your needs\n",
        "EXPERIMENTS = \"/content/drive/MyDrive/data/gan/experiments\"\n",
        "NETWORK = \"network-snapshot-000120.pkl\"\n",
        "RESUME = os.path.join(EXPERIMENTS, \"00012-dataset-auto1-resumecustom\", NETWORK)\n",
        "DATA = \"/content/drive/MyDrive/data/gan/dataset\"\n",
        "SNAP = 10\n",
        "WORKERS = 2\n",
        "\n",
        "# Build the command and run it\n",
        "cmd = f\"/usr/bin/python3 /content/stylegan2-ada-pytorch/train.py --snap {SNAP} --resume {RESUME} --outdir {EXPERIMENTS} --data {DATA} --workers {WORKERS}\"\n",
        "!{cmd}"
      ]
    },
    {
      "cell_type": "markdown",
      "source": [
        "# 생성"
      ],
      "metadata": {
        "id": "YnEOiTazPKlu"
      }
    },
    {
      "cell_type": "code",
      "source": [
        "import os\n",
        "\n",
        "# Modify these to suit your needs\n",
        "\n",
        "EXPERIMENTS = \"/content/drive/MyDrive/data/gan/experiments\"\n",
        "RUN = \"00014-dataset-auto1-resumecustom\"\n",
        "NETWORK = os.path.join(EXPERIMENTS, RUN, \"network-snapshot-000080.pkl\")\n",
        "OUTDIR = os.path.join(EXPERIMENTS, RUN, 'out')\n",
        "TRUNCATION = 0.7\n",
        "SEEDS = '300-305'\n",
        "\n",
        "# Build the command and run it\n",
        "\n",
        "cmd = f\"/usr/bin/python3 /content/stylegan2-ada-pytorch/generate.py --outdir {OUTDIR} --trunc {TRUNCATION} --seeds {SEEDS} --network {NETWORK}\"\n",
        "!{cmd}"
      ],
      "metadata": {
        "colab": {
          "base_uri": "https://localhost:8080/"
        },
        "id": "ZQo6lhndPMKd",
        "outputId": "b0dfd440-0fba-40f4-856b-ccac22e6cd0c"
      },
      "execution_count": 14,
      "outputs": [
        {
          "output_type": "stream",
          "name": "stdout",
          "text": [
            "Loading networks from \"/content/drive/MyDrive/data/gan/experiments/00014-dataset-auto1-resumecustom/network-snapshot-000080.pkl\"...\n",
            "Generating image for seed 300 (0/6) ...\n",
            "Setting up PyTorch plugin \"bias_act_plugin\"... Done.\n",
            "Setting up PyTorch plugin \"upfirdn2d_plugin\"... Done.\n",
            "Generating image for seed 301 (1/6) ...\n",
            "Generating image for seed 302 (2/6) ...\n",
            "Generating image for seed 303 (3/6) ...\n",
            "Generating image for seed 304 (4/6) ...\n",
            "Generating image for seed 305 (5/6) ...\n"
          ]
        }
      ]
    }
  ],
  "metadata": {
    "accelerator": "GPU",
    "colab": {
      "provenance": [],
      "include_colab_link": true
    },
    "kernelspec": {
      "display_name": "Python 3 (ipykernel)",
      "language": "python",
      "name": "python3"
    },
    "language_info": {
      "codemirror_mode": {
        "name": "ipython",
        "version": 3
      },
      "file_extension": ".py",
      "mimetype": "text/x-python",
      "name": "python",
      "nbconvert_exporter": "python",
      "pygments_lexer": "ipython3",
      "version": "3.9.5"
    },
    "gpuClass": "standard"
  },
  "nbformat": 4,
  "nbformat_minor": 0
}